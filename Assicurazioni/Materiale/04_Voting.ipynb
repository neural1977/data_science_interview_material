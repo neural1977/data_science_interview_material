{
  "nbformat": 4,
  "nbformat_minor": 0,
  "metadata": {
    "colab": {
      "provenance": [],
      "toc_visible": true
    },
    "kernelspec": {
      "name": "python3",
      "display_name": "Python 3"
    },
    "language_info": {
      "name": "python"
    }
  },
  "cells": [
    {
      "cell_type": "markdown",
      "source": [
        "# INTRODUCTION TO BLOCKCHAIN FOR OFFICIAL STATISTICS\n",
        "\n",
        "## ICON-Institute\n",
        "\n",
        "### Dr. Christian Kauth"
      ],
      "metadata": {
        "id": "qwSx3oysHIeH"
      }
    },
    {
      "cell_type": "markdown",
      "source": [
        "# Citizen Happiness"
      ],
      "metadata": {
        "id": "w_HC_sm43tyH"
      }
    },
    {
      "cell_type": "code",
      "source": [
        "%%html\n",
        "<iframe src=\"https://ec.europa.eu/eurostat/databrowser/view/ilc_pw01$DV_528/default/table?lang=en\" width=\"1000\" height=\"600\"></iframe>"
      ],
      "metadata": {
        "colab": {
          "base_uri": "https://localhost:8080/",
          "height": 625
        },
        "id": "Y4AnHhVR32m4",
        "outputId": "03f18cf4-7cc5-4ca2-8175-0ac42078522c"
      },
      "execution_count": null,
      "outputs": [
        {
          "output_type": "display_data",
          "data": {
            "text/plain": [
              "<IPython.core.display.HTML object>"
            ],
            "text/html": [
              "<iframe src=\"https://ec.europa.eu/eurostat/databrowser/view/ilc_pw01$DV_528/default/table?lang=en\" width=\"1000\" height=\"600\"></iframe>"
            ]
          },
          "metadata": {}
        }
      ]
    },
    {
      "cell_type": "code",
      "source": [
        "%%html\n",
        "<iframe src=\"https://ec.europa.eu/eurostat/statistics-explained/index.php?title=EU_statistics_on_income_and_living_conditions_(EU-SILC)_methodology_-_2013_personal_well-being_indicators\" width=\"1100\" height=\"600\"></iframe>"
      ],
      "metadata": {
        "colab": {
          "base_uri": "https://localhost:8080/",
          "height": 625
        },
        "id": "rSORFCew4M2-",
        "outputId": "7b083f2d-87ca-4900-a6a9-b7ceb13afb1b"
      },
      "execution_count": null,
      "outputs": [
        {
          "output_type": "display_data",
          "data": {
            "text/plain": [
              "<IPython.core.display.HTML object>"
            ],
            "text/html": [
              "<iframe src=\"https://ec.europa.eu/eurostat/statistics-explained/index.php?title=EU_statistics_on_income_and_living_conditions_(EU-SILC)_methodology_-_2013_personal_well-being_indicators\" width=\"1100\" height=\"600\"></iframe>"
            ]
          },
          "metadata": {}
        }
      ]
    },
    {
      "cell_type": "code",
      "source": [
        "!pip install eurostatapiclient"
      ],
      "metadata": {
        "colab": {
          "base_uri": "https://localhost:8080/"
        },
        "id": "X-dzts-K40sY",
        "outputId": "d7e75a38-e2e3-47dd-f12a-b0931bc49e08"
      },
      "execution_count": null,
      "outputs": [
        {
          "output_type": "stream",
          "name": "stdout",
          "text": [
            "Collecting eurostatapiclient\n",
            "  Downloading eurostatapiclient-0.2.7-py3-none-any.whl (12 kB)\n",
            "Requirement already satisfied: requests>=2.21.0 in /usr/local/lib/python3.7/dist-packages (from eurostatapiclient) (2.23.0)\n",
            "Requirement already satisfied: pandas>=0.23.4 in /usr/local/lib/python3.7/dist-packages (from eurostatapiclient) (1.3.5)\n",
            "Requirement already satisfied: numpy>=1.17.3 in /usr/local/lib/python3.7/dist-packages (from pandas>=0.23.4->eurostatapiclient) (1.21.5)\n",
            "Requirement already satisfied: python-dateutil>=2.7.3 in /usr/local/lib/python3.7/dist-packages (from pandas>=0.23.4->eurostatapiclient) (2.8.2)\n",
            "Requirement already satisfied: pytz>=2017.3 in /usr/local/lib/python3.7/dist-packages (from pandas>=0.23.4->eurostatapiclient) (2018.9)\n",
            "Requirement already satisfied: six>=1.5 in /usr/local/lib/python3.7/dist-packages (from python-dateutil>=2.7.3->pandas>=0.23.4->eurostatapiclient) (1.15.0)\n",
            "Requirement already satisfied: urllib3!=1.25.0,!=1.25.1,<1.26,>=1.21.1 in /usr/local/lib/python3.7/dist-packages (from requests>=2.21.0->eurostatapiclient) (1.24.3)\n",
            "Requirement already satisfied: chardet<4,>=3.0.2 in /usr/local/lib/python3.7/dist-packages (from requests>=2.21.0->eurostatapiclient) (3.0.4)\n",
            "Requirement already satisfied: certifi>=2017.4.17 in /usr/local/lib/python3.7/dist-packages (from requests>=2.21.0->eurostatapiclient) (2021.10.8)\n",
            "Requirement already satisfied: idna<3,>=2.5 in /usr/local/lib/python3.7/dist-packages (from requests>=2.21.0->eurostatapiclient) (2.10)\n",
            "Installing collected packages: eurostatapiclient\n",
            "Successfully installed eurostatapiclient-0.2.7\n"
          ]
        }
      ]
    },
    {
      "cell_type": "code",
      "source": [
        "from eurostatapiclient import EurostatAPIClient\n",
        "import pandas as pd\n",
        "\n",
        "client = EurostatAPIClient('v2.1', 'json', 'en')\n",
        "\n",
        "df = []\n",
        "for sat_cat in ['ACCSAT', 'COMSAT', 'FINSAT', 'GREENSAT', 'JOBSAT', 'LIFESAT', 'LIVENVSAT', 'MEANLIFE', 'RELSAT', 'TIMESAT']:\n",
        "\n",
        "  par_df = {\n",
        "      'geo': ['AT', 'BE', 'BG', 'CH', 'CY', 'CZ', 'DE', 'DK', 'EE', 'EL', 'ES', 'FI', 'FR', 'HR', 'HU', 'IE', 'IS', 'IT', 'LT', 'LU', 'LV', 'ME', 'MK', 'MT', 'NL', 'NO', 'PL', 'PT', 'RO', 'RS', 'SE', 'SI', 'SK', 'TR', 'UK', 'AL', 'XK'],\n",
        "      'indic_wb': sat_cat,\n",
        "      'isced11': ['ED0-2', 'ED3_4', 'ED5-8', 'ED5_6'],\n",
        "      'age': ['Y16-24', 'Y16-24', 'Y25-34', 'Y35-49', 'Y50-64', 'Y65-74'],\n",
        "      'unit': 'RTG',\n",
        "      'sex': ['F', 'M'],\n",
        "      'time': ['2013', '2018'],\n",
        "      'precision': 1}\n",
        "\n",
        "  print(sat_cat)\n",
        "  dfi = client.get_dataset('ilc_pw01', params=par_df).to_dataframe()\n",
        "  df.append(dfi)\n",
        "\n",
        "df = pd.concat(df, axis=0, ignore_index=True)\n",
        "df = df.pivot(values='values', columns='indic_wb', index=df.columns.drop(['indic_wb', 'values', 'unit'])).reset_index()\n",
        "df.dropna(subset=['LIFESAT'], axis=0, inplace=True)\n",
        "\n",
        "df"
      ],
      "metadata": {
        "colab": {
          "base_uri": "https://localhost:8080/",
          "height": 597
        },
        "id": "vjln6MCe4642",
        "outputId": "450cf2a0-e90c-4512-ced6-ed2db42fa0f4"
      },
      "execution_count": null,
      "outputs": [
        {
          "output_type": "stream",
          "name": "stdout",
          "text": [
            "ACCSAT\n",
            "COMSAT\n",
            "FINSAT\n",
            "GREENSAT\n",
            "JOBSAT\n",
            "LIFESAT\n",
            "LIVENVSAT\n",
            "MEANLIFE\n",
            "RELSAT\n",
            "TIMESAT\n"
          ]
        },
        {
          "output_type": "execute_result",
          "data": {
            "text/plain": [
              "indic_wb isced11 sex     age geo  time  ACCSAT  COMSAT  FINSAT  GREENSAT  \\\n",
              "1          ED0-2   F  Y16-24  AL  2018     NaN     NaN     4.9       NaN   \n",
              "2          ED0-2   F  Y16-24  AT  2013     8.6     8.4     7.5       8.1   \n",
              "3          ED0-2   F  Y16-24  AT  2018     NaN     NaN     7.5       NaN   \n",
              "4          ED0-2   F  Y16-24  BE  2013     7.8     NaN     6.7       6.7   \n",
              "5          ED0-2   F  Y16-24  BE  2018     NaN     NaN     6.8       NaN   \n",
              "...          ...  ..     ...  ..   ...     ...     ...     ...       ...   \n",
              "2934       ED5_6   M  Y65-74  MT  2013     8.2     NaN     7.5       6.7   \n",
              "2944       ED5_6   M  Y65-74  RO  2013     8.0     NaN     7.1       7.4   \n",
              "2948       ED5_6   M  Y65-74  SE  2013     8.9     8.6     8.8       8.9   \n",
              "2954       ED5_6   M  Y65-74  TR  2013     7.2     6.8     6.1       6.4   \n",
              "2956       ED5_6   M  Y65-74  UK  2013     8.8     8.7     7.9       8.4   \n",
              "\n",
              "indic_wb  JOBSAT  LIFESAT  LIVENVSAT  MEANLIFE  RELSAT  TIMESAT  \n",
              "1            5.6      6.1        NaN       NaN     7.2      5.9  \n",
              "2            8.5      8.2        8.2       7.8     8.8      7.2  \n",
              "3            8.1      8.0        NaN       NaN     8.9      7.3  \n",
              "4            NaN      7.7        7.4       8.0     8.1      7.7  \n",
              "5            NaN      7.8        NaN       NaN     8.0      7.6  \n",
              "...          ...      ...        ...       ...     ...      ...  \n",
              "2934         NaN      7.9        7.1       8.4     8.9      7.6  \n",
              "2944         NaN      7.5        7.3       7.6     7.9      7.9  \n",
              "2948         8.7      8.4        8.3       8.3     8.7      8.6  \n",
              "2954         7.0      6.2        7.3       7.2     7.7      6.5  \n",
              "2956         7.7      8.0        8.4       8.1     8.7      8.5  \n",
              "\n",
              "[2145 rows x 15 columns]"
            ],
            "text/html": [
              "\n",
              "  <div id=\"df-dce33fed-6e20-4116-bc7d-fcee4ba62cf1\">\n",
              "    <div class=\"colab-df-container\">\n",
              "      <div>\n",
              "<style scoped>\n",
              "    .dataframe tbody tr th:only-of-type {\n",
              "        vertical-align: middle;\n",
              "    }\n",
              "\n",
              "    .dataframe tbody tr th {\n",
              "        vertical-align: top;\n",
              "    }\n",
              "\n",
              "    .dataframe thead th {\n",
              "        text-align: right;\n",
              "    }\n",
              "</style>\n",
              "<table border=\"1\" class=\"dataframe\">\n",
              "  <thead>\n",
              "    <tr style=\"text-align: right;\">\n",
              "      <th>indic_wb</th>\n",
              "      <th>isced11</th>\n",
              "      <th>sex</th>\n",
              "      <th>age</th>\n",
              "      <th>geo</th>\n",
              "      <th>time</th>\n",
              "      <th>ACCSAT</th>\n",
              "      <th>COMSAT</th>\n",
              "      <th>FINSAT</th>\n",
              "      <th>GREENSAT</th>\n",
              "      <th>JOBSAT</th>\n",
              "      <th>LIFESAT</th>\n",
              "      <th>LIVENVSAT</th>\n",
              "      <th>MEANLIFE</th>\n",
              "      <th>RELSAT</th>\n",
              "      <th>TIMESAT</th>\n",
              "    </tr>\n",
              "  </thead>\n",
              "  <tbody>\n",
              "    <tr>\n",
              "      <th>1</th>\n",
              "      <td>ED0-2</td>\n",
              "      <td>F</td>\n",
              "      <td>Y16-24</td>\n",
              "      <td>AL</td>\n",
              "      <td>2018</td>\n",
              "      <td>NaN</td>\n",
              "      <td>NaN</td>\n",
              "      <td>4.9</td>\n",
              "      <td>NaN</td>\n",
              "      <td>5.6</td>\n",
              "      <td>6.1</td>\n",
              "      <td>NaN</td>\n",
              "      <td>NaN</td>\n",
              "      <td>7.2</td>\n",
              "      <td>5.9</td>\n",
              "    </tr>\n",
              "    <tr>\n",
              "      <th>2</th>\n",
              "      <td>ED0-2</td>\n",
              "      <td>F</td>\n",
              "      <td>Y16-24</td>\n",
              "      <td>AT</td>\n",
              "      <td>2013</td>\n",
              "      <td>8.6</td>\n",
              "      <td>8.4</td>\n",
              "      <td>7.5</td>\n",
              "      <td>8.1</td>\n",
              "      <td>8.5</td>\n",
              "      <td>8.2</td>\n",
              "      <td>8.2</td>\n",
              "      <td>7.8</td>\n",
              "      <td>8.8</td>\n",
              "      <td>7.2</td>\n",
              "    </tr>\n",
              "    <tr>\n",
              "      <th>3</th>\n",
              "      <td>ED0-2</td>\n",
              "      <td>F</td>\n",
              "      <td>Y16-24</td>\n",
              "      <td>AT</td>\n",
              "      <td>2018</td>\n",
              "      <td>NaN</td>\n",
              "      <td>NaN</td>\n",
              "      <td>7.5</td>\n",
              "      <td>NaN</td>\n",
              "      <td>8.1</td>\n",
              "      <td>8.0</td>\n",
              "      <td>NaN</td>\n",
              "      <td>NaN</td>\n",
              "      <td>8.9</td>\n",
              "      <td>7.3</td>\n",
              "    </tr>\n",
              "    <tr>\n",
              "      <th>4</th>\n",
              "      <td>ED0-2</td>\n",
              "      <td>F</td>\n",
              "      <td>Y16-24</td>\n",
              "      <td>BE</td>\n",
              "      <td>2013</td>\n",
              "      <td>7.8</td>\n",
              "      <td>NaN</td>\n",
              "      <td>6.7</td>\n",
              "      <td>6.7</td>\n",
              "      <td>NaN</td>\n",
              "      <td>7.7</td>\n",
              "      <td>7.4</td>\n",
              "      <td>8.0</td>\n",
              "      <td>8.1</td>\n",
              "      <td>7.7</td>\n",
              "    </tr>\n",
              "    <tr>\n",
              "      <th>5</th>\n",
              "      <td>ED0-2</td>\n",
              "      <td>F</td>\n",
              "      <td>Y16-24</td>\n",
              "      <td>BE</td>\n",
              "      <td>2018</td>\n",
              "      <td>NaN</td>\n",
              "      <td>NaN</td>\n",
              "      <td>6.8</td>\n",
              "      <td>NaN</td>\n",
              "      <td>NaN</td>\n",
              "      <td>7.8</td>\n",
              "      <td>NaN</td>\n",
              "      <td>NaN</td>\n",
              "      <td>8.0</td>\n",
              "      <td>7.6</td>\n",
              "    </tr>\n",
              "    <tr>\n",
              "      <th>...</th>\n",
              "      <td>...</td>\n",
              "      <td>...</td>\n",
              "      <td>...</td>\n",
              "      <td>...</td>\n",
              "      <td>...</td>\n",
              "      <td>...</td>\n",
              "      <td>...</td>\n",
              "      <td>...</td>\n",
              "      <td>...</td>\n",
              "      <td>...</td>\n",
              "      <td>...</td>\n",
              "      <td>...</td>\n",
              "      <td>...</td>\n",
              "      <td>...</td>\n",
              "      <td>...</td>\n",
              "    </tr>\n",
              "    <tr>\n",
              "      <th>2934</th>\n",
              "      <td>ED5_6</td>\n",
              "      <td>M</td>\n",
              "      <td>Y65-74</td>\n",
              "      <td>MT</td>\n",
              "      <td>2013</td>\n",
              "      <td>8.2</td>\n",
              "      <td>NaN</td>\n",
              "      <td>7.5</td>\n",
              "      <td>6.7</td>\n",
              "      <td>NaN</td>\n",
              "      <td>7.9</td>\n",
              "      <td>7.1</td>\n",
              "      <td>8.4</td>\n",
              "      <td>8.9</td>\n",
              "      <td>7.6</td>\n",
              "    </tr>\n",
              "    <tr>\n",
              "      <th>2944</th>\n",
              "      <td>ED5_6</td>\n",
              "      <td>M</td>\n",
              "      <td>Y65-74</td>\n",
              "      <td>RO</td>\n",
              "      <td>2013</td>\n",
              "      <td>8.0</td>\n",
              "      <td>NaN</td>\n",
              "      <td>7.1</td>\n",
              "      <td>7.4</td>\n",
              "      <td>NaN</td>\n",
              "      <td>7.5</td>\n",
              "      <td>7.3</td>\n",
              "      <td>7.6</td>\n",
              "      <td>7.9</td>\n",
              "      <td>7.9</td>\n",
              "    </tr>\n",
              "    <tr>\n",
              "      <th>2948</th>\n",
              "      <td>ED5_6</td>\n",
              "      <td>M</td>\n",
              "      <td>Y65-74</td>\n",
              "      <td>SE</td>\n",
              "      <td>2013</td>\n",
              "      <td>8.9</td>\n",
              "      <td>8.6</td>\n",
              "      <td>8.8</td>\n",
              "      <td>8.9</td>\n",
              "      <td>8.7</td>\n",
              "      <td>8.4</td>\n",
              "      <td>8.3</td>\n",
              "      <td>8.3</td>\n",
              "      <td>8.7</td>\n",
              "      <td>8.6</td>\n",
              "    </tr>\n",
              "    <tr>\n",
              "      <th>2954</th>\n",
              "      <td>ED5_6</td>\n",
              "      <td>M</td>\n",
              "      <td>Y65-74</td>\n",
              "      <td>TR</td>\n",
              "      <td>2013</td>\n",
              "      <td>7.2</td>\n",
              "      <td>6.8</td>\n",
              "      <td>6.1</td>\n",
              "      <td>6.4</td>\n",
              "      <td>7.0</td>\n",
              "      <td>6.2</td>\n",
              "      <td>7.3</td>\n",
              "      <td>7.2</td>\n",
              "      <td>7.7</td>\n",
              "      <td>6.5</td>\n",
              "    </tr>\n",
              "    <tr>\n",
              "      <th>2956</th>\n",
              "      <td>ED5_6</td>\n",
              "      <td>M</td>\n",
              "      <td>Y65-74</td>\n",
              "      <td>UK</td>\n",
              "      <td>2013</td>\n",
              "      <td>8.8</td>\n",
              "      <td>8.7</td>\n",
              "      <td>7.9</td>\n",
              "      <td>8.4</td>\n",
              "      <td>7.7</td>\n",
              "      <td>8.0</td>\n",
              "      <td>8.4</td>\n",
              "      <td>8.1</td>\n",
              "      <td>8.7</td>\n",
              "      <td>8.5</td>\n",
              "    </tr>\n",
              "  </tbody>\n",
              "</table>\n",
              "<p>2145 rows × 15 columns</p>\n",
              "</div>\n",
              "      <button class=\"colab-df-convert\" onclick=\"convertToInteractive('df-dce33fed-6e20-4116-bc7d-fcee4ba62cf1')\"\n",
              "              title=\"Convert this dataframe to an interactive table.\"\n",
              "              style=\"display:none;\">\n",
              "        \n",
              "  <svg xmlns=\"http://www.w3.org/2000/svg\" height=\"24px\"viewBox=\"0 0 24 24\"\n",
              "       width=\"24px\">\n",
              "    <path d=\"M0 0h24v24H0V0z\" fill=\"none\"/>\n",
              "    <path d=\"M18.56 5.44l.94 2.06.94-2.06 2.06-.94-2.06-.94-.94-2.06-.94 2.06-2.06.94zm-11 1L8.5 8.5l.94-2.06 2.06-.94-2.06-.94L8.5 2.5l-.94 2.06-2.06.94zm10 10l.94 2.06.94-2.06 2.06-.94-2.06-.94-.94-2.06-.94 2.06-2.06.94z\"/><path d=\"M17.41 7.96l-1.37-1.37c-.4-.4-.92-.59-1.43-.59-.52 0-1.04.2-1.43.59L10.3 9.45l-7.72 7.72c-.78.78-.78 2.05 0 2.83L4 21.41c.39.39.9.59 1.41.59.51 0 1.02-.2 1.41-.59l7.78-7.78 2.81-2.81c.8-.78.8-2.07 0-2.86zM5.41 20L4 18.59l7.72-7.72 1.47 1.35L5.41 20z\"/>\n",
              "  </svg>\n",
              "      </button>\n",
              "      \n",
              "  <style>\n",
              "    .colab-df-container {\n",
              "      display:flex;\n",
              "      flex-wrap:wrap;\n",
              "      gap: 12px;\n",
              "    }\n",
              "\n",
              "    .colab-df-convert {\n",
              "      background-color: #E8F0FE;\n",
              "      border: none;\n",
              "      border-radius: 50%;\n",
              "      cursor: pointer;\n",
              "      display: none;\n",
              "      fill: #1967D2;\n",
              "      height: 32px;\n",
              "      padding: 0 0 0 0;\n",
              "      width: 32px;\n",
              "    }\n",
              "\n",
              "    .colab-df-convert:hover {\n",
              "      background-color: #E2EBFA;\n",
              "      box-shadow: 0px 1px 2px rgba(60, 64, 67, 0.3), 0px 1px 3px 1px rgba(60, 64, 67, 0.15);\n",
              "      fill: #174EA6;\n",
              "    }\n",
              "\n",
              "    [theme=dark] .colab-df-convert {\n",
              "      background-color: #3B4455;\n",
              "      fill: #D2E3FC;\n",
              "    }\n",
              "\n",
              "    [theme=dark] .colab-df-convert:hover {\n",
              "      background-color: #434B5C;\n",
              "      box-shadow: 0px 1px 3px 1px rgba(0, 0, 0, 0.15);\n",
              "      filter: drop-shadow(0px 1px 2px rgba(0, 0, 0, 0.3));\n",
              "      fill: #FFFFFF;\n",
              "    }\n",
              "  </style>\n",
              "\n",
              "      <script>\n",
              "        const buttonEl =\n",
              "          document.querySelector('#df-dce33fed-6e20-4116-bc7d-fcee4ba62cf1 button.colab-df-convert');\n",
              "        buttonEl.style.display =\n",
              "          google.colab.kernel.accessAllowed ? 'block' : 'none';\n",
              "\n",
              "        async function convertToInteractive(key) {\n",
              "          const element = document.querySelector('#df-dce33fed-6e20-4116-bc7d-fcee4ba62cf1');\n",
              "          const dataTable =\n",
              "            await google.colab.kernel.invokeFunction('convertToInteractive',\n",
              "                                                     [key], {});\n",
              "          if (!dataTable) return;\n",
              "\n",
              "          const docLinkHtml = 'Like what you see? Visit the ' +\n",
              "            '<a target=\"_blank\" href=https://colab.research.google.com/notebooks/data_table.ipynb>data table notebook</a>'\n",
              "            + ' to learn more about interactive tables.';\n",
              "          element.innerHTML = '';\n",
              "          dataTable['output_type'] = 'display_data';\n",
              "          await google.colab.output.renderOutput(dataTable, element);\n",
              "          const docLink = document.createElement('div');\n",
              "          docLink.innerHTML = docLinkHtml;\n",
              "          element.appendChild(docLink);\n",
              "        }\n",
              "      </script>\n",
              "    </div>\n",
              "  </div>\n",
              "  "
            ]
          },
          "metadata": {},
          "execution_count": 4
        }
      ]
    },
    {
      "cell_type": "markdown",
      "source": [
        "# Solidity\n",
        "- High-level statically-typed language\n",
        "- Compiled to Ethereum Virtual Machine (EVM) byte code\n",
        "- Create Java wrappers with web3j\n"
      ],
      "metadata": {
        "id": "oMG1BEiTGqJ9"
      }
    },
    {
      "cell_type": "code",
      "source": [
        "%%html\n",
        "<iframe src=\"https://soliditylang.org/\" width=\"1000\" height=\"600\"></iframe>"
      ],
      "metadata": {
        "colab": {
          "base_uri": "https://localhost:8080/",
          "height": 625
        },
        "id": "D2VlslsJGqip",
        "outputId": "53f846a9-ede4-48df-9e0c-fbd8209aa431"
      },
      "execution_count": null,
      "outputs": [
        {
          "output_type": "display_data",
          "data": {
            "text/plain": [
              "<IPython.core.display.HTML object>"
            ],
            "text/html": [
              "<iframe src=\"https://soliditylang.org/\" width=\"1000\" height=\"600\"></iframe>"
            ]
          },
          "metadata": {}
        }
      ]
    },
    {
      "cell_type": "markdown",
      "source": [
        "# Ethereum Virtual Machine\n",
        "\n",
        "The EVM’s physical instantiation can’t be described in the same way that one might point to a cloud or an ocean wave, but it does exist as one single entity maintained by thousands of connected computers running an Ethereum client.\n",
        "\n",
        "The Ethereum protocol itself exists solely for the purpose of keeping the continuous, uninterrupted, and immutable operation of this **special state machine**; It's the environment in which all Ethereum accounts and smart contracts live. At any given block in the chain, Ethereum has one and only one 'canonical' state, and the EVM is what defines the rules for computing a new valid state from block to block.\n",
        "\n",
        "[Read more](https://ethereum.org/en/developers/docs/evm/)\n",
        "\n",
        "![evm](https://ethereum.org/static/e8aca8381c7b3b40c44bf8882d4ab930/302a4/evm.png)"
      ],
      "metadata": {
        "id": "ebVfnVh6G3fE"
      }
    },
    {
      "cell_type": "markdown",
      "source": [
        "# web3j\n",
        "\n",
        "- complete Ethereum JSON-RPC implementation\n",
        "- Ethereum wallet support\n",
        "- Smart contract wrappers\n",
        "- command line tools\n",
        "- Android compatible"
      ],
      "metadata": {
        "id": "VXxzoeBGG7Q9"
      }
    },
    {
      "cell_type": "markdown",
      "source": [
        "# Voting\n",
        "![voting](https://images.unsplash.com/photo-1540910419892-4a36d2c3266c?ixlib=rb-1.2.1&ixid=MnwxMjA3fDB8MHxwaG90by1wYWdlfHx8fGVufDB8fHx8&auto=format&fit=crop&w=2340&q=80)"
      ],
      "metadata": {
        "id": "5cBkK_DP7RDd"
      }
    },
    {
      "cell_type": "markdown",
      "source": [
        "## 💡 Poll Topic\n",
        "**What should we vote about?**\n",
        "\n",
        "Question: \"What is the best use of blockchain in official statistics?\"\n",
        "\n",
        "Options: [\"Social\", \"Economic\", \"Environmental\"]"
      ],
      "metadata": {
        "id": "I40Xd7xy5Qs9"
      }
    },
    {
      "cell_type": "markdown",
      "source": [
        "## Voting Smart Contract Scaffold\n",
        "\n",
        "![scaffold](https://images.unsplash.com/photo-1609898769047-66f0f979b094?ixlib=rb-1.2.1&ixid=MnwxMjA3fDB8MHxwaG90by1wYWdlfHx8fGVufDB8fHx8&auto=format&fit=crop&w=3827&q=80)"
      ],
      "metadata": {
        "id": "IWCMP3vbCVXm"
      }
    },
    {
      "cell_type": "code",
      "source": [
        "!pip install py-solc-x "
      ],
      "metadata": {
        "colab": {
          "base_uri": "https://localhost:8080/"
        },
        "id": "74USPTq97Y1M",
        "outputId": "371f9f76-deb0-4717-efc7-1956f8b3d375"
      },
      "execution_count": null,
      "outputs": [
        {
          "output_type": "stream",
          "name": "stdout",
          "text": [
            "Collecting py-solc-x\n",
            "  Downloading py_solc_x-1.1.1-py3-none-any.whl (15 kB)\n",
            "Requirement already satisfied: requests<3,>=2.19.0 in /usr/local/lib/python3.7/dist-packages (from py-solc-x) (2.23.0)\n",
            "Collecting semantic-version<3,>=2.8.1\n",
            "  Downloading semantic_version-2.9.0-py2.py3-none-any.whl (15 kB)\n",
            "Requirement already satisfied: certifi>=2017.4.17 in /usr/local/lib/python3.7/dist-packages (from requests<3,>=2.19.0->py-solc-x) (2021.10.8)\n",
            "Requirement already satisfied: idna<3,>=2.5 in /usr/local/lib/python3.7/dist-packages (from requests<3,>=2.19.0->py-solc-x) (2.10)\n",
            "Requirement already satisfied: urllib3!=1.25.0,!=1.25.1,<1.26,>=1.21.1 in /usr/local/lib/python3.7/dist-packages (from requests<3,>=2.19.0->py-solc-x) (1.24.3)\n",
            "Requirement already satisfied: chardet<4,>=3.0.2 in /usr/local/lib/python3.7/dist-packages (from requests<3,>=2.19.0->py-solc-x) (3.0.4)\n",
            "Installing collected packages: semantic-version, py-solc-x\n",
            "Successfully installed py-solc-x-1.1.1 semantic-version-2.9.0\n"
          ]
        }
      ]
    },
    {
      "cell_type": "code",
      "source": [
        "import solcx\n",
        "solcx.install_solc()\n",
        "from solcx import compile_source"
      ],
      "metadata": {
        "id": "26YW6TtS7S6s"
      },
      "execution_count": null,
      "outputs": []
    },
    {
      "cell_type": "code",
      "source": [
        "compiled_solidity = compile_source(\n",
        "'''\n",
        "// SPDX-License-Identifier: MIT\n",
        "pragma solidity ^0.8.12;\n",
        "\n",
        "contract Voting{\n",
        "    string[] private options;\n",
        "    uint[] private votes;\n",
        "\n",
        "    constructor(string[] memory _options) {\n",
        "        options = _options;\n",
        "        votes = new uint[](_options.length);\n",
        "    }\n",
        "\n",
        "    //transaction\n",
        "    function vote(uint _option) public {\n",
        "        \n",
        "    }\n",
        "\n",
        "    //call\n",
        "    function get_options() public view returns (string[] memory) {\n",
        "        return options;\n",
        "    }\n",
        "\n",
        "    //call\n",
        "    function get_votes() public view returns (uint[] memory) {\n",
        "        return votes;\n",
        "    }\n",
        "}\n",
        "''', output_values=['abi', 'bin'])\n",
        "\n",
        "compiled_solidity"
      ],
      "metadata": {
        "colab": {
          "base_uri": "https://localhost:8080/"
        },
        "id": "-7Fb9u_ECLjT",
        "outputId": "065a8f2d-a68e-4c3d-f047-0a876a0a4869"
      },
      "execution_count": null,
      "outputs": [
        {
          "output_type": "execute_result",
          "data": {
            "text/plain": [
              "{'<stdin>:Voting': {'abi': [{'inputs': [{'internalType': 'string[]',\n",
              "      'name': '_options',\n",
              "      'type': 'string[]'}],\n",
              "    'stateMutability': 'nonpayable',\n",
              "    'type': 'constructor'},\n",
              "   {'inputs': [],\n",
              "    'name': 'get_options',\n",
              "    'outputs': [{'internalType': 'string[]', 'name': '', 'type': 'string[]'}],\n",
              "    'stateMutability': 'view',\n",
              "    'type': 'function'},\n",
              "   {'inputs': [],\n",
              "    'name': 'get_votes',\n",
              "    'outputs': [{'internalType': 'uint256[]',\n",
              "      'name': '',\n",
              "      'type': 'uint256[]'}],\n",
              "    'stateMutability': 'view',\n",
              "    'type': 'function'},\n",
              "   {'inputs': [{'internalType': 'uint256',\n",
              "      'name': '_option',\n",
              "      'type': 'uint256'}],\n",
              "    'name': 'vote',\n",
              "    'outputs': [],\n",
              "    'stateMutability': 'nonpayable',\n",
              "    'type': 'function'}],\n",
              "  'bin': '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'}}"
            ]
          },
          "metadata": {},
          "execution_count": 8
        }
      ]
    },
    {
      "cell_type": "markdown",
      "source": [
        "## 🧑‍💻 Implement Vote\n",
        "\n",
        "![count](https://www.bigmountainanalytics.com/wp-content/uploads/2020/11/shutterstock_267422855-680x449-1.jpg)"
      ],
      "metadata": {
        "id": "B8x_yhTsDbv7"
      }
    },
    {
      "cell_type": "markdown",
      "source": [
        "## Safety\n",
        "Let's protect our smart contract against intentional or unintentional misuse.\n",
        "\n",
        "![safetynet](https://images.unsplash.com/photo-1521342877220-c9d6e14213f1?ixlib=rb-1.2.1&ixid=MnwxMjA3fDB8MHxwaG90by1wYWdlfHx8fGVufDB8fHx8&auto=format&fit=crop&w=2406&q=80)\n",
        "\n",
        "🧑‍💻 Insert the following boundary-check at the correct location:\n",
        "\n",
        "`require(0 <= _option && _option < options.length, \"Invalid option\");`"
      ],
      "metadata": {
        "id": "Rl1vms7rEDo1"
      }
    },
    {
      "cell_type": "markdown",
      "source": [
        "## One Vote per Account\n",
        "\n",
        "![one](https://images.unsplash.com/photo-1519658422992-0c8495f08389?ixlib=rb-1.2.1&ixid=MnwxMjA3fDB8MHxwaG90by1wYWdlfHx8fGVufDB8fHx8&auto=format&fit=crop&w=2310&q=80)"
      ],
      "metadata": {
        "id": "tXnmeeQUsgln"
      }
    },
    {
      "cell_type": "code",
      "source": [
        "compiled_solidity = compile_source(\n",
        "'''\n",
        "// SPDX-License-Identifier: MIT\n",
        "pragma solidity ^0.8.12;\n",
        "\n",
        "contract Voting{\n",
        "    string[] private options;\n",
        "    uint[] private votes;\n",
        "    mapping (address => bool) private hasVoted;\n",
        "\n",
        "    constructor(string[] memory _options) {\n",
        "        options = _options;\n",
        "        votes = new uint[](_options.length);\n",
        "    }\n",
        "\n",
        "    //transaction\n",
        "    function vote(uint _option) public {\n",
        "        require(!hasVoted[msg.sender], \"Already voted\");\n",
        "        require(0 <= _option && _option < options.length, \"Invalid option\");\n",
        "        votes[_option] += 1;\n",
        "        hasVoted[msg.sender] = true;\n",
        "    }\n",
        "\n",
        "    //call\n",
        "    function get_options() public view returns (string[] memory) {\n",
        "        return options;\n",
        "    }\n",
        "\n",
        "    //call\n",
        "    function get_votes() public view returns (uint[] memory) {\n",
        "        return votes;\n",
        "    }\n",
        "}\n",
        "''', output_values=['abi', 'bin'])\n",
        "\n",
        "compiled_solidity"
      ],
      "metadata": {
        "colab": {
          "base_uri": "https://localhost:8080/"
        },
        "id": "nP9P6DaXsntv",
        "outputId": "1e68d017-c74a-4116-8bf0-7c8d27ddd4b3"
      },
      "execution_count": null,
      "outputs": [
        {
          "output_type": "execute_result",
          "data": {
            "text/plain": [
              "{'<stdin>:Voting': {'abi': [{'inputs': [{'internalType': 'string[]',\n",
              "      'name': '_options',\n",
              "      'type': 'string[]'}],\n",
              "    'stateMutability': 'nonpayable',\n",
              "    'type': 'constructor'},\n",
              "   {'inputs': [],\n",
              "    'name': 'get_options',\n",
              "    'outputs': [{'internalType': 'string[]', 'name': '', 'type': 'string[]'}],\n",
              "    'stateMutability': 'view',\n",
              "    'type': 'function'},\n",
              "   {'inputs': [],\n",
              "    'name': 'get_votes',\n",
              "    'outputs': [{'internalType': 'uint256[]',\n",
              "      'name': '',\n",
              "      'type': 'uint256[]'}],\n",
              "    'stateMutability': 'view',\n",
              "    'type': 'function'},\n",
              "   {'inputs': [{'internalType': 'uint256',\n",
              "      'name': '_option',\n",
              "      'type': 'uint256'}],\n",
              "    'name': 'vote',\n",
              "    'outputs': [],\n",
              "    'stateMutability': 'nonpayable',\n",
              "    'type': 'function'}],\n",
              "  'bin': '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'}}"
            ]
          },
          "metadata": {},
          "execution_count": 9
        }
      ]
    },
    {
      "cell_type": "markdown",
      "source": [
        "## Mapping\n",
        "It would be nicer and more intuitive to vote by _option\\_name_ than by _option\\_index_.\n",
        "\n",
        "![map](https://images.unsplash.com/photo-1489702932289-406b7782113c?ixlib=rb-1.2.1&ixid=MnwxMjA3fDB8MHxwaG90by1wYWdlfHx8fGVufDB8fHx8&auto=format&fit=crop&w=2344&q=80)"
      ],
      "metadata": {
        "id": "ugnbZuNVDmfy"
      }
    },
    {
      "cell_type": "markdown",
      "source": [
        "First Attempt"
      ],
      "metadata": {
        "id": "syw2S5IfVsuv"
      }
    },
    {
      "cell_type": "code",
      "source": [
        "compiled_solidity = compile_source(\n",
        "'''\n",
        "/// SPDX-License-Identifier: MIT\n",
        "pragma solidity ^0.8.12;\n",
        "\n",
        "contract Voting{\n",
        "    string[] private options;\n",
        "    uint[] private votes;\n",
        "    mapping (address => bool) private hasVoted;\n",
        "    \n",
        "\n",
        "    mapping (string => uint) private optionMap;\n",
        "\n",
        "    constructor(string[] memory _options) {\n",
        "        options = _options;\n",
        "        votes = new uint[](_options.length);\n",
        "\n",
        "        for (uint i=0; i < _options.length; ++i){\n",
        "            string memory optionKey = _options[i];\n",
        "            optionMap[optionKey] = i;\n",
        "        }\n",
        "    }\n",
        "\n",
        "    //transaction\n",
        "    function vote(string memory _option) public {\n",
        "        require(!hasVoted[msg.sender], \"Already voted\");\n",
        "\n",
        "        uint _vote = optionMap[_option];\n",
        "        require(0 <= _vote && _vote < options.length, \"Invalid vote!\" );\n",
        "        \n",
        "        votes[_vote]++;\n",
        "        hasVoted[msg.sender] = true;\n",
        "    }\n",
        "\n",
        "    //call\n",
        "    function get_options() public view returns (string[] memory) {\n",
        "        return options;\n",
        "    }\n",
        "\n",
        "    //call\n",
        "    function get_votes() public view returns (uint[] memory) {\n",
        "        return votes;\n",
        "    }\n",
        "\n",
        "    /*\n",
        "        \"Social\" => 0\n",
        "        \"Economic\" => 1\n",
        "        \"Environmental\" => 2\n",
        "    */\n",
        "\n",
        "    //  [\"Social\", \"Economic\", \"Environmental\"]\n",
        "}\n",
        "''', output_values=['abi', 'bin'])\n",
        "\n",
        "compiled_solidity"
      ],
      "metadata": {
        "colab": {
          "base_uri": "https://localhost:8080/"
        },
        "id": "KOH0ksB0VsG7",
        "outputId": "24123cc4-2f55-42ef-c779-e31806c6b726"
      },
      "execution_count": null,
      "outputs": [
        {
          "output_type": "execute_result",
          "data": {
            "text/plain": [
              "{'<stdin>:Voting': {'abi': [{'inputs': [{'internalType': 'string[]',\n",
              "      'name': '_options',\n",
              "      'type': 'string[]'}],\n",
              "    'stateMutability': 'nonpayable',\n",
              "    'type': 'constructor'},\n",
              "   {'inputs': [],\n",
              "    'name': 'get_options',\n",
              "    'outputs': [{'internalType': 'string[]', 'name': '', 'type': 'string[]'}],\n",
              "    'stateMutability': 'view',\n",
              "    'type': 'function'},\n",
              "   {'inputs': [],\n",
              "    'name': 'get_votes',\n",
              "    'outputs': [{'internalType': 'uint256[]',\n",
              "      'name': '',\n",
              "      'type': 'uint256[]'}],\n",
              "    'stateMutability': 'view',\n",
              "    'type': 'function'},\n",
              "   {'inputs': [{'internalType': 'string',\n",
              "      'name': '_option',\n",
              "      'type': 'string'}],\n",
              "    'name': 'vote',\n",
              "    'outputs': [],\n",
              "    'stateMutability': 'nonpayable',\n",
              "    'type': 'function'}],\n",
              "  'bin': '60806040523480156200001157600080fd5b506040516200114f3803806200114f833981810160405281019062000037919062000597565b80600090805190602001906200004f92919062000127565b50805167ffffffffffffffff8111156200006e576200006d62000328565b5b6040519080825280602002602001820160405280156200009d5781602001602082028036833780820191505090505b5060019080519060200190620000b59291906200018e565b5060005b81518110156200011f576000828281518110620000db57620000da620005e8565b5b6020026020010151905081600382604051620000f8919062000664565b90815260200160405180910390208190555050806200011790620006b6565b9050620000b9565b505062000769565b8280548282559060005260206000209081019282156200017b579160200282015b828111156200017a57825182908051906020019062000169929190620001e0565b509160200191906001019062000148565b5b5090506200018a919062000271565b5090565b828054828255906000526020600020908101928215620001cd579160200282015b82811115620001cc578251825591602001919060010190620001af565b5b509050620001dc919062000299565b5090565b828054620001ee9062000733565b90600052602060002090601f0160209004810192826200021257600085556200025e565b82601f106200022d57805160ff19168380011785556200025e565b828001600101855582156200025e579182015b828111156200025d57825182559160200191906001019062000240565b5b5090506200026d919062000299565b5090565b5b808211156200029557600081816200028b9190620002b8565b5060010162000272565b5090565b5b80821115620002b45760008160009055506001016200029a565b5090565b508054620002c69062000733565b6000825580601f10620002da5750620002fb565b601f016020900490600052602060002090810190620002fa919062000299565b5b50565b6000604051905090565b600080fd5b600080fd5b600080fd5b6000601f19601f8301169050919050565b7f4e487b7100000000000000000000000000000000000000000000000000000000600052604160045260246000fd5b620003628262000317565b810181811067ffffffffffffffff8211171562000384576200038362000328565b5b80604052505050565b600062000399620002fe565b9050620003a7828262000357565b919050565b600067ffffffffffffffff821115620003ca57620003c962000328565b5b602082029050602081019050919050565b600080fd5b600080fd5b600067ffffffffffffffff82111562000403576200040262000328565b5b6200040e8262000317565b9050602081019050919050565b60005b838110156200043b5780820151818401526020810190506200041e565b838111156200044b576000848401525b50505050565b6000620004686200046284620003e5565b6200038d565b905082815260208101848484011115620004875762000486620003e0565b5b620004948482856200041b565b509392505050565b600082601f830112620004b457620004b362000312565b5b8151620004c684826020860162000451565b91505092915050565b6000620004e6620004e084620003ac565b6200038d565b905080838252602082019050602084028301858111156200050c576200050b620003db565b5b835b818110156200055a57805167ffffffffffffffff81111562000535576200053462000312565b5b8086016200054489826200049c565b855260208501945050506020810190506200050e565b5050509392505050565b600082601f8301126200057c576200057b62000312565b5b81516200058e848260208601620004cf565b91505092915050565b600060208284031215620005b057620005af62000308565b5b600082015167ffffffffffffffff811115620005d157620005d06200030d565b5b620005df8482850162000564565b91505092915050565b7f4e487b7100000000000000000000000000000000000000000000000000000000600052603260045260246000fd5b600081519050919050565b600081905092915050565b60006200063a8262000617565b62000646818562000622565b9350620006588185602086016200041b565b80840191505092915050565b60006200067282846200062d565b915081905092915050565b7f4e487b7100000000000000000000000000000000000000000000000000000000600052601160045260246000fd5b6000819050919050565b6000620006c382620006ac565b91507fffffffffffffffffffffffffffffffffffffffffffffffffffffffffffffffff821415620006f957620006f86200067d565b5b600182019050919050565b7f4e487b7100000000000000000000000000000000000000000000000000000000600052602260045260246000fd5b600060028204905060018216806200074c57607f821691505b6020821081141562000763576200076262000704565b5b50919050565b6109d680620007796000396000f3fe608060405234801561001057600080fd5b50600436106100415760003560e01c806394f183cb14610046578063d8d29e5d14610064578063fc36e15b14610082575b600080fd5b61004e61009e565b60405161005b919061042b565b60405180910390f35b61006c6100f6565b60405161007991906105a8565b60405180910390f35b61009c60048036038101906100979190610713565b6101cf565b005b606060018054806020026020016040519081016040528092919081815260200182805480156100ec57602002820191906000526020600020905b8154815260200190600101908083116100d8575b5050505050905090565b60606000805480602002602001604051908101604052809291908181526020016000905b828210156101c65783829060005260206000200180546101399061078b565b80601f01602080910402602001604051908101604052809291908181526020018280546101659061078b565b80156101b25780601f10610187576101008083540402835291602001916101b2565b820191906000526020600020905b81548152906001019060200180831161019557829003601f168201915b50505050508152602001906001019061011a565b50505050905090565b600260003373ffffffffffffffffffffffffffffffffffffffff1673ffffffffffffffffffffffffffffffffffffffff16815260200190815260200160002060009054906101000a900460ff161561025c576040517f08c379a00000000000000000000000000000000000000000000000000000000081526004016102539061081a565b60405180910390fd5b600060038260405161026e9190610876565b908152602001604051809103902054905080600011158015610294575060008054905081105b6102d3576040517f08c379a00000000000000000000000000000000000000000000000000000000081526004016102ca906108d9565b60405180910390fd5b600181815481106102e7576102e66108f9565b5b90600052602060002001600081548092919061030290610957565b91905055506001600260003373ffffffffffffffffffffffffffffffffffffffff1673ffffffffffffffffffffffffffffffffffffffff16815260200190815260200160002060006101000a81548160ff0219169083151502179055505050565b600081519050919050565b600082825260208201905092915050565b6000819050602082019050919050565b6000819050919050565b6103a28161038f565b82525050565b60006103b48383610399565b60208301905092915050565b6000602082019050919050565b60006103d882610363565b6103e2818561036e565b93506103ed8361037f565b8060005b8381101561041e57815161040588826103a8565b9750610410836103c0565b9250506001810190506103f1565b5085935050505092915050565b6000602082019050818103600083015261044581846103cd565b905092915050565b600081519050919050565b600082825260208201905092915050565b6000819050602082019050919050565b600081519050919050565b600082825260208201905092915050565b60005b838110156104b3578082015181840152602081019050610498565b838111156104c2576000848401525b50505050565b6000601f19601f8301169050919050565b60006104e482610479565b6104ee8185610484565b93506104fe818560208601610495565b610507816104c8565b840191505092915050565b600061051e83836104d9565b905092915050565b6000602082019050919050565b600061053e8261044d565b6105488185610458565b93508360208202850161055a85610469565b8060005b8581101561059657848403895281516105778582610512565b945061058283610526565b925060208a0199505060018101905061055e565b50829750879550505050505092915050565b600060208201905081810360008301526105c28184610533565b905092915050565b6000604051905090565b600080fd5b600080fd5b600080fd5b600080fd5b7f4e487b7100000000000000000000000000000000000000000000000000000000600052604160045260246000fd5b610620826104c8565b810181811067ffffffffffffffff8211171561063f5761063e6105e8565b5b80604052505050565b60006106526105ca565b905061065e8282610617565b919050565b600067ffffffffffffffff82111561067e5761067d6105e8565b5b610687826104c8565b9050602081019050919050565b82818337600083830152505050565b60006106b66106b184610663565b610648565b9050828152602081018484840111156106d2576106d16105e3565b5b6106dd848285610694565b509392505050565b600082601f8301126106fa576106f96105de565b5b813561070a8482602086016106a3565b91505092915050565b600060208284031215610729576107286105d4565b5b600082013567ffffffffffffffff811115610747576107466105d9565b5b610753848285016106e5565b91505092915050565b7f4e487b7100000000000000000000000000000000000000000000000000000000600052602260045260246000fd5b600060028204905060018216806107a357607f821691505b602082108114156107b7576107b661075c565b5b50919050565b600082825260208201905092915050565b7f416c726561647920766f74656400000000000000000000000000000000000000600082015250565b6000610804600d836107bd565b915061080f826107ce565b602082019050919050565b60006020820190508181036000830152610833816107f7565b9050919050565b600081905092915050565b600061085082610479565b61085a818561083a565b935061086a818560208601610495565b80840191505092915050565b60006108828284610845565b915081905092915050565b7f496e76616c696420766f74652100000000000000000000000000000000000000600082015250565b60006108c3600d836107bd565b91506108ce8261088d565b602082019050919050565b600060208201905081810360008301526108f2816108b6565b9050919050565b7f4e487b7100000000000000000000000000000000000000000000000000000000600052603260045260246000fd5b7f4e487b7100000000000000000000000000000000000000000000000000000000600052601160045260246000fd5b60006109628261038f565b91507fffffffffffffffffffffffffffffffffffffffffffffffffffffffffffffffff82141561099557610994610928565b5b60018201905091905056fea26469706673582212202723bfc51603221e9c551b114d8819eb8c49dfb3a365d2ca820507049e23db0164736f6c634300080c0033'}}"
            ]
          },
          "metadata": {},
          "execution_count": 10
        }
      ]
    },
    {
      "cell_type": "markdown",
      "source": [
        "First attempt is incorrect, because it attributes votes to invalid options to the very first option! Let's fix this..."
      ],
      "metadata": {
        "id": "0ygb5SN3VupG"
      }
    },
    {
      "cell_type": "code",
      "source": [
        "compiled_solidity = compile_source(\n",
        "'''\n",
        "// SPDX-License-Identifier: MIT\n",
        "pragma solidity ^0.8.12;\n",
        "\n",
        "contract Voting{\n",
        "    string[] private options;\n",
        "    uint[] private votes;\n",
        "    mapping (address => bool) private hasVoted;\n",
        "    \n",
        "    struct Option{\n",
        "        uint index;\n",
        "        bool exists;\n",
        "    }\n",
        "    mapping (string => Option) private optionMap;\n",
        "\n",
        "    constructor(string[] memory _options) {\n",
        "        options = _options;\n",
        "        votes = new uint[](_options.length);\n",
        "\n",
        "        for (uint i=0; i < _options.length; ++i){\n",
        "            string memory optionKey = _options[i];\n",
        "            Option memory optionValue = Option(i, true);\n",
        "            optionMap[optionKey] = optionValue;\n",
        "        }\n",
        "    }\n",
        "\n",
        "    //transaction\n",
        "    function vote(string memory _option) public {\n",
        "        require(!hasVoted[msg.sender], \"Already voted\");\n",
        "\n",
        "        Option memory option = optionMap[_option];\n",
        "        require(option.exists, \"Invalid option\");\n",
        "        \n",
        "        votes[option.index] += 1;\n",
        "        hasVoted[msg.sender] = true;\n",
        "    }\n",
        "\n",
        "    //call\n",
        "    function get_options() public view returns (string[] memory) {\n",
        "        return options;\n",
        "    }\n",
        "\n",
        "    //call\n",
        "    function get_votes() public view returns (uint[] memory) {\n",
        "        return votes;\n",
        "    }\n",
        "}\n",
        "''', output_values=['abi', 'bin'])\n",
        "\n",
        "compiled_solidity"
      ],
      "metadata": {
        "colab": {
          "base_uri": "https://localhost:8080/"
        },
        "id": "zBqmYLE8aESd",
        "outputId": "a1689e6e-751d-43e1-97de-c92785aec1c9"
      },
      "execution_count": null,
      "outputs": [
        {
          "output_type": "execute_result",
          "data": {
            "text/plain": [
              "{'<stdin>:Voting': {'abi': [{'inputs': [{'internalType': 'string[]',\n",
              "      'name': '_options',\n",
              "      'type': 'string[]'}],\n",
              "    'stateMutability': 'nonpayable',\n",
              "    'type': 'constructor'},\n",
              "   {'inputs': [],\n",
              "    'name': 'get_options',\n",
              "    'outputs': [{'internalType': 'string[]', 'name': '', 'type': 'string[]'}],\n",
              "    'stateMutability': 'view',\n",
              "    'type': 'function'},\n",
              "   {'inputs': [],\n",
              "    'name': 'get_votes',\n",
              "    'outputs': [{'internalType': 'uint256[]',\n",
              "      'name': '',\n",
              "      'type': 'uint256[]'}],\n",
              "    'stateMutability': 'view',\n",
              "    'type': 'function'},\n",
              "   {'inputs': [{'internalType': 'string',\n",
              "      'name': '_option',\n",
              "      'type': 'string'}],\n",
              "    'name': 'vote',\n",
              "    'outputs': [],\n",
              "    'stateMutability': 'nonpayable',\n",
              "    'type': 'function'}],\n",
              "  'bin': '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'}}"
            ]
          },
          "metadata": {},
          "execution_count": 11
        }
      ]
    },
    {
      "cell_type": "markdown",
      "source": [
        "## Delegate Vote"
      ],
      "metadata": {
        "id": "4u4cueHgu9xs"
      }
    },
    {
      "cell_type": "code",
      "source": [
        "compiled_solidity = compile_source(\n",
        "'''\n",
        "// SPDX-License-Identifier: MIT\n",
        "pragma solidity ^0.8.12;\n",
        "\n",
        "contract Voting{\n",
        "    string[] private options;\n",
        "    uint[] private votes;\n",
        "    mapping (address => int) private votesLeft;\n",
        "    \n",
        "    struct Option{\n",
        "        uint index;\n",
        "        bool exists;\n",
        "    }\n",
        "    mapping (string => Option) private optionMap;\n",
        "\n",
        "    constructor(string[] memory _options) {\n",
        "        options = _options;\n",
        "        votes = new uint[](_options.length);\n",
        "\n",
        "        for (uint i=0; i < _options.length; ++i){\n",
        "            string memory optionKey = _options[i];\n",
        "            Option memory optionValue = Option(i, true);\n",
        "            optionMap[optionKey] = optionValue;\n",
        "        }\n",
        "    }\n",
        "\n",
        "    //transaction\n",
        "    function vote(string memory _option) public {\n",
        "        require(votesLeft[msg.sender] >= 0, \"Already voted or delegated\");\n",
        "\n",
        "        Option memory option = optionMap[_option];\n",
        "        require(option.exists, \"Invalid option\");\n",
        "\n",
        "        votes[option.index] += 1;\n",
        "        votesLeft[msg.sender] -= 1;\n",
        "    }\n",
        "\n",
        "    //call\n",
        "    function get_options() public view returns (string[] memory) {\n",
        "        return options;\n",
        "    }\n",
        "\n",
        "    //call\n",
        "    function get_votes() public view returns (uint[] memory) {\n",
        "        return votes;\n",
        "    }\n",
        "\n",
        "    function delegate_vote(address _representative) public {\n",
        "        require(votesLeft[msg.sender] >= 0, \"Already voted or delegated\");\n",
        "        require(_representative != msg.sender, \"Cannot delegate to self\");\n",
        "        votesLeft[_representative] += 1;\n",
        "        votesLeft[msg.sender] -= 1;\n",
        "    }\n",
        "\n",
        "    //call\n",
        "    function votes_left() public view returns (int) {\n",
        "        return votesLeft[msg.sender] + 1;\n",
        "    }\n",
        "}\n",
        "''', output_values=['abi', 'bin'])\n",
        "\n",
        "compiled_solidity\n",
        "\n",
        "\n"
      ],
      "metadata": {
        "colab": {
          "base_uri": "https://localhost:8080/"
        },
        "id": "oBpGkzI9eSqp",
        "outputId": "e345d864-fb06-40a5-931e-b7fdd761f3b4"
      },
      "execution_count": null,
      "outputs": [
        {
          "output_type": "execute_result",
          "data": {
            "text/plain": [
              "{'<stdin>:Voting': {'abi': [{'inputs': [{'internalType': 'string[]',\n",
              "      'name': '_options',\n",
              "      'type': 'string[]'}],\n",
              "    'stateMutability': 'nonpayable',\n",
              "    'type': 'constructor'},\n",
              "   {'inputs': [{'internalType': 'address',\n",
              "      'name': '_representative',\n",
              "      'type': 'address'}],\n",
              "    'name': 'delegate_vote',\n",
              "    'outputs': [],\n",
              "    'stateMutability': 'nonpayable',\n",
              "    'type': 'function'},\n",
              "   {'inputs': [],\n",
              "    'name': 'get_options',\n",
              "    'outputs': [{'internalType': 'string[]', 'name': '', 'type': 'string[]'}],\n",
              "    'stateMutability': 'view',\n",
              "    'type': 'function'},\n",
              "   {'inputs': [],\n",
              "    'name': 'get_votes',\n",
              "    'outputs': [{'internalType': 'uint256[]',\n",
              "      'name': '',\n",
              "      'type': 'uint256[]'}],\n",
              "    'stateMutability': 'view',\n",
              "    'type': 'function'},\n",
              "   {'inputs': [{'internalType': 'string',\n",
              "      'name': '_option',\n",
              "      'type': 'string'}],\n",
              "    'name': 'vote',\n",
              "    'outputs': [],\n",
              "    'stateMutability': 'nonpayable',\n",
              "    'type': 'function'},\n",
              "   {'inputs': [],\n",
              "    'name': 'votes_left',\n",
              "    'outputs': [{'internalType': 'int256', 'name': '', 'type': 'int256'}],\n",
              "    'stateMutability': 'view',\n",
              "    'type': 'function'}],\n",
              "  'bin': '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'}}"
            ]
          },
          "metadata": {},
          "execution_count": 12
        }
      ]
    },
    {
      "cell_type": "markdown",
      "source": [
        "## Deploy to Rinkeby\n",
        "\n",
        "Smart contract deployment is a relatively gas-expensive transaction! \n",
        "\n",
        "[To the deployment transaction](https://rinkeby.etherscan.io/tx/0xaa30402b8500e786704ce3f2dd7d8d4924eb5357fd4168bcceebb01fc58cd8c9)\n",
        "\n",
        "![vote](https://kauthentechstorage.blob.core.windows.net/notebookimages/smartContract_vote_01.png)"
      ],
      "metadata": {
        "id": "WKeFbjn-Jpvt"
      }
    },
    {
      "cell_type": "markdown",
      "source": [
        "The vote transaction is **publically inspectable**. Absolute transparency here. The vote is **pseudo-anonymous**... you know the voter's public address, but a priori you do not know who owns that addresss... \n",
        "\n",
        "[To the vote transaction](https://rinkeby.etherscan.io/tx/0x5a758866c07b9c0962f35434a48b7ef44e06e8bf12f1b29525853b6c9fccc6bc)\n",
        "\n",
        "![vote](https://kauthentechstorage.blob.core.windows.net/notebookimages/smartContract_vote_02.png)"
      ],
      "metadata": {
        "id": "DqlpjNEFJ7gd"
      }
    },
    {
      "cell_type": "code",
      "source": [
        "%%html\n",
        "<iframe src=\"https://rinkeby.etherscan.io/tx/0x5a758866c07b9c0962f35434a48b7ef44e06e8bf12f1b29525853b6c9fccc6bc\" width=\"1000\" height=\"600\"></iframe>"
      ],
      "metadata": {
        "colab": {
          "base_uri": "https://localhost:8080/",
          "height": 625
        },
        "id": "R5Kj_aEnLJfh",
        "outputId": "733a5d22-9a1c-4005-8159-2662c65810c2"
      },
      "execution_count": null,
      "outputs": [
        {
          "output_type": "display_data",
          "data": {
            "text/plain": [
              "<IPython.core.display.HTML object>"
            ],
            "text/html": [
              "<iframe src=\"https://rinkeby.etherscan.io/tx/0x5a758866c07b9c0962f35434a48b7ef44e06e8bf12f1b29525853b6c9fccc6bc\" width=\"1000\" height=\"600\"></iframe>"
            ]
          },
          "metadata": {}
        }
      ]
    },
    {
      "cell_type": "markdown",
      "source": [
        "All interactions with the smart contract can be publically inspected.\n",
        "\n",
        "![vote](https://kauthentechstorage.blob.core.windows.net/notebookimages/smartContract_vote_03.png)\n",
        "\n",
        "[To the smart contract](https://rinkeby.etherscan.io/address/0xe8f72384da065ce37cbf0c7c9c24f3ba3ce49be2)"
      ],
      "metadata": {
        "id": "MiwCVAaDK5fZ"
      }
    },
    {
      "cell_type": "code",
      "source": [
        "%%html\n",
        "<iframe src=\"https://rinkeby.etherscan.io/address/0xe8f72384da065ce37cbf0c7c9c24f3ba3ce49be2\" width=\"1000\" height=\"600\"></iframe>"
      ],
      "metadata": {
        "colab": {
          "base_uri": "https://localhost:8080/",
          "height": 625
        },
        "id": "79o7CbUhJwHt",
        "outputId": "a8425a47-916b-4b88-f650-b99df71ef531"
      },
      "execution_count": null,
      "outputs": [
        {
          "output_type": "display_data",
          "data": {
            "text/plain": [
              "<IPython.core.display.HTML object>"
            ],
            "text/html": [
              "<iframe src=\"https://rinkeby.etherscan.io/address/0xe8f72384da065ce37cbf0c7c9c24f3ba3ce49be2\" width=\"1000\" height=\"600\"></iframe>"
            ]
          },
          "metadata": {}
        }
      ]
    },
    {
      "cell_type": "markdown",
      "source": [
        "# UP NEXT\n",
        "[Concepts](https://colab.research.google.com/drive/14Nn7EZixwFXFKLJLCS5W1s1n10YGXiUK?usp=sharing)"
      ],
      "metadata": {
        "id": "HP9zaf_nLbbp"
      }
    }
  ]
}