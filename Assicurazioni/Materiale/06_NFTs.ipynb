{
  "nbformat": 4,
  "nbformat_minor": 0,
  "metadata": {
    "colab": {
      "provenance": [],
      "toc_visible": true
    },
    "kernelspec": {
      "name": "python3",
      "display_name": "Python 3"
    },
    "language_info": {
      "name": "python"
    }
  },
  "cells": [
    {
      "cell_type": "markdown",
      "source": [
        "# INTRODUCTION TO BLOCKCHAIN FOR OFFICIAL STATISTICS\n",
        "\n",
        "## ICON-Institute\n",
        "\n",
        "### Dr. Christian Kauth"
      ],
      "metadata": {
        "id": "9UBboeCWnXoM"
      }
    },
    {
      "cell_type": "markdown",
      "source": [
        "# Nyan Cat\n",
        "\n",
        "sold for **300ETH**"
      ],
      "metadata": {
        "id": "qYUtWaJoyQT4"
      }
    },
    {
      "cell_type": "code",
      "source": [
        "%%html\n",
        "<iframe width=\"1000\" height=\"562\" src=\"https://www.youtube.com/embed/QH2-TGUlwu4\" title=\"YouTube video player\" frameborder=\"0\" allow=\"accelerometer; autoplay; clipboard-write; encrypted-media; gyroscope; picture-in-picture\" allowfullscreen></iframe>"
      ],
      "metadata": {
        "colab": {
          "base_uri": "https://localhost:8080/",
          "height": 583
        },
        "id": "KSeDeBe3x9Pv",
        "outputId": "c8d2d758-c47c-4fbe-b576-19db9e1caab1"
      },
      "execution_count": null,
      "outputs": [
        {
          "output_type": "display_data",
          "data": {
            "text/plain": [
              "<IPython.core.display.HTML object>"
            ],
            "text/html": [
              "<iframe width=\"1000\" height=\"562\" src=\"https://www.youtube.com/embed/QH2-TGUlwu4\" title=\"YouTube video player\" frameborder=\"0\" allow=\"accelerometer; autoplay; clipboard-write; encrypted-media; gyroscope; picture-in-picture\" allowfullscreen></iframe>"
            ]
          },
          "metadata": {}
        }
      ]
    },
    {
      "cell_type": "markdown",
      "source": [
        "## NFT Marketplace\n",
        "- [Opensea](https://opensea.io/)\n",
        "- [Rarible](https://rarible.com/)\n",
        "\n",
        "Check out the highest price [NFT stats](https://coinmarketcap.com/nft/)"
      ],
      "metadata": {
        "id": "1mzlsmISzUN-"
      }
    },
    {
      "cell_type": "code",
      "source": [
        "%%html\n",
        "<iframe src=\"https://opensea.io/\" width=\"1000\" height=\"600\"></iframe>"
      ],
      "metadata": {
        "colab": {
          "base_uri": "https://localhost:8080/",
          "height": 625
        },
        "id": "5xhRagvTzW0W",
        "outputId": "78f8e566-8cbd-49c5-81cc-5becebd90cf6"
      },
      "execution_count": null,
      "outputs": [
        {
          "output_type": "display_data",
          "data": {
            "text/plain": [
              "<IPython.core.display.HTML object>"
            ],
            "text/html": [
              "<iframe src=\"https://opensea.io/\" width=\"1000\" height=\"600\"></iframe>"
            ]
          },
          "metadata": {}
        }
      ]
    },
    {
      "cell_type": "markdown",
      "source": [
        "# Token Standards"
      ],
      "metadata": {
        "id": "tvRSqVUC0bIV"
      }
    },
    {
      "cell_type": "markdown",
      "source": [
        "## ERC-20\n",
        "\n",
        "An ERC20 token contract keeps track of **fungible tokens**: any one token is exactly equal to any other token; no tokens have special rights or behavior associated with them. This makes ERC20 tokens useful for things like a medium of exchange currency, voting rights, staking, and more [...](https://docs.openzeppelin.com/contracts/3.x/erc20)\n"
      ],
      "metadata": {
        "id": "AydXBdXn0rp8"
      }
    },
    {
      "cell_type": "markdown",
      "source": [
        "## ERC-721\n",
        "\n",
        "But what if not all tokens are alike? This comes up in situations like real estate or collectibles, where some items are valued more than others, due to their usefulness, rarity, etc. ERC721 is a standard for representing ownership of non-fungible tokens, that is, where each token is unique [...](https://docs.openzeppelin.com/contracts/3.x/erc721)\n",
        "\n",
        "ERC-27 Standard, or the **NFT Standard**"
      ],
      "metadata": {
        "id": "f7KQCJD50ION"
      }
    },
    {
      "cell_type": "markdown",
      "source": [
        "## ERC-777\n",
        "\n",
        "Like ERC20, ERC777 is a standard for **fungible tokens**, and is focused around allowing more complex interactions when trading tokens. The standard also brings multiple quality-of-life improvements, such as getting rid of the confusion around decimals, minting and burning with proper events, among others, but its killer feature is receive hooks. A hook is simply a function in a contract that is called when tokens are sent to it, meaning accounts and contracts can react to receiving tokens [...](https://docs.openzeppelin.com/contracts/3.x/erc777)\n"
      ],
      "metadata": {
        "id": "1k_wUFW53AjE"
      }
    },
    {
      "cell_type": "markdown",
      "source": [
        "## ERC-1155\n",
        "\n",
        "ERC1155 is a novel token standard that aims to take the best from previous standards to create a fungibility-agnostic and gas-efficient token contract [...](https://docs.openzeppelin.com/contracts/3.x/erc1155)\n",
        "\n",
        "**Semi-fungible** tokens Standard\n",
        "\n"
      ],
      "metadata": {
        "id": "DDPDSFPi0ViU"
      }
    },
    {
      "cell_type": "markdown",
      "source": [
        "# Smart Contract Libraries\n",
        "You do not need to implement these standards yourself. Rather make your contract inherit from other contracts that implement the standards, like [OpenZeppelin](https://github.com/OpenZeppelin/openzeppelin-contracts)\n"
      ],
      "metadata": {
        "id": "1766IVMqjgED"
      }
    },
    {
      "cell_type": "markdown",
      "source": [
        "# Storage\n",
        "- is expensive on blockchains\n",
        "- is centralized off blockchains\n",
        "- solutions ?"
      ],
      "metadata": {
        "id": "KNUQuo_w7lQO"
      }
    },
    {
      "cell_type": "markdown",
      "source": [
        "## IPFS\n",
        "\n",
        "**Inter Planetary File Storage**\n",
        "\n",
        "![hubble](https://www.bing.com/th/id/ABT3ECCEB370B53C36E037AEE7202169297E675A1F97BB94301ADBB99EB09546343?w=600&h=230&c=1&rs=1&qlt=90&dpr=3&pid=InlineBlock)"
      ],
      "metadata": {
        "id": "qmAA0l5W51PH"
      }
    },
    {
      "cell_type": "code",
      "source": [
        "%%html\n",
        "<iframe src=\"https://ipfs.io/\" width=\"1000\" height=\"600\"></iframe>"
      ],
      "metadata": {
        "colab": {
          "base_uri": "https://localhost:8080/",
          "height": 625
        },
        "id": "3gwWa6cb6FJJ",
        "outputId": "9ee84ae7-f088-45dd-e242-92d63326ddb4"
      },
      "execution_count": null,
      "outputs": [
        {
          "output_type": "display_data",
          "data": {
            "text/plain": [
              "<IPython.core.display.HTML object>"
            ],
            "text/html": [
              "<iframe src=\"https://ipfs.io/\" width=\"1000\" height=\"600\"></iframe>"
            ]
          },
          "metadata": {}
        }
      ]
    },
    {
      "cell_type": "code",
      "source": [
        "%%html\n",
        "<iframe width=\"1000\" height=\"562\" src=\"https://www.youtube.com/embed/5Uj6uR3fp-U\" title=\"YouTube video player\" frameborder=\"0\" allow=\"accelerometer; autoplay; clipboard-write; encrypted-media; gyroscope; picture-in-picture\" allowfullscreen></iframe>"
      ],
      "metadata": {
        "colab": {
          "base_uri": "https://localhost:8080/",
          "height": 583
        },
        "id": "LSuWzZ1L-D0E",
        "outputId": "2dbb38ba-b0ae-4ef3-8f81-b09aac64e17d"
      },
      "execution_count": null,
      "outputs": [
        {
          "output_type": "display_data",
          "data": {
            "text/plain": [
              "<IPython.core.display.HTML object>"
            ],
            "text/html": [
              "<iframe width=\"1000\" height=\"562\" src=\"https://www.youtube.com/embed/5Uj6uR3fp-U\" title=\"YouTube video player\" frameborder=\"0\" allow=\"accelerometer; autoplay; clipboard-write; encrypted-media; gyroscope; picture-in-picture\" allowfullscreen></iframe>"
            ]
          },
          "metadata": {}
        }
      ]
    },
    {
      "cell_type": "markdown",
      "source": [
        "## Web3 Storage\n",
        "\n",
        "An API for IPFS"
      ],
      "metadata": {
        "id": "lgYs8fy07xdW"
      }
    },
    {
      "cell_type": "code",
      "source": [
        "%%html\n",
        "<iframe src=\"https://web3.storage/\" width=\"1000\" height=\"600\"></iframe>"
      ],
      "metadata": {
        "colab": {
          "base_uri": "https://localhost:8080/",
          "height": 625
        },
        "id": "IlX89Nib725F",
        "outputId": "a763b8b4-9a51-48a9-c51a-9597a416fef3"
      },
      "execution_count": null,
      "outputs": [
        {
          "output_type": "display_data",
          "data": {
            "text/plain": [
              "<IPython.core.display.HTML object>"
            ],
            "text/html": [
              "<iframe src=\"https://web3.storage/\" width=\"1000\" height=\"600\"></iframe>"
            ]
          },
          "metadata": {}
        }
      ]
    },
    {
      "cell_type": "markdown",
      "source": [
        "# For the Human Artist\n",
        "\n",
        "- Sell your gallery\n",
        "- Off the shelf\n",
        "\n",
        "![painter](https://images.unsplash.com/photo-1589996448606-27d38c70f3bc?ixlib=rb-1.2.1&ixid=MnwxMjA3fDB8MHxwaG90by1wYWdlfHx8fGVufDB8fHx8&auto=format&fit=crop&w=2070&q=80)"
      ],
      "metadata": {
        "id": "aLzFX1Na6O6v"
      }
    },
    {
      "cell_type": "markdown",
      "source": [
        "## NFT"
      ],
      "metadata": {
        "id": "2WHn5c4kFIrF"
      }
    },
    {
      "cell_type": "code",
      "source": [
        "%%html\n",
        "<iframe width=\"1000\" height=\"562\" src=\"https://www.youtube.com/embed/FkUn86bH34M\" title=\"YouTube video player\" frameborder=\"0\" allow=\"accelerometer; autoplay; clipboard-write; encrypted-media; gyroscope; picture-in-picture\" allowfullscreen></iframe>"
      ],
      "metadata": {
        "colab": {
          "base_uri": "https://localhost:8080/",
          "height": 583
        },
        "id": "lr4AN3II_Fac",
        "outputId": "7f9f5748-8bbd-4829-f391-0a97e51b66aa"
      },
      "execution_count": null,
      "outputs": [
        {
          "output_type": "display_data",
          "data": {
            "text/plain": [
              "<IPython.core.display.HTML object>"
            ],
            "text/html": [
              "<iframe width=\"1000\" height=\"562\" src=\"https://www.youtube.com/embed/FkUn86bH34M\" title=\"YouTube video player\" frameborder=\"0\" allow=\"accelerometer; autoplay; clipboard-write; encrypted-media; gyroscope; picture-in-picture\" allowfullscreen></iframe>"
            ]
          },
          "metadata": {}
        }
      ]
    },
    {
      "cell_type": "markdown",
      "source": [
        "## Minting"
      ],
      "metadata": {
        "id": "FXpFHmkTFMWl"
      }
    },
    {
      "cell_type": "code",
      "source": [
        "%%html\n",
        "<iframe src=\"https://artessere.com/blog/37-what-does-it-mean-to-mint-an-nft-and-how-do-you-do-it\" width=\"1000\" height=\"600\"></iframe>"
      ],
      "metadata": {
        "colab": {
          "base_uri": "https://localhost:8080/",
          "height": 625
        },
        "id": "66dQoKsopiK9",
        "outputId": "2c2ef02e-3637-4acf-b79f-6a618c058c45"
      },
      "execution_count": null,
      "outputs": [
        {
          "output_type": "display_data",
          "data": {
            "text/plain": [
              "<IPython.core.display.HTML object>"
            ],
            "text/html": [
              "<iframe src=\"https://artessere.com/blog/37-what-does-it-mean-to-mint-an-nft-and-how-do-you-do-it\" width=\"1000\" height=\"600\"></iframe>"
            ]
          },
          "metadata": {}
        }
      ]
    },
    {
      "cell_type": "markdown",
      "source": [
        "## Copyright"
      ],
      "metadata": {
        "id": "Ab3_YA0NFOP0"
      }
    },
    {
      "cell_type": "code",
      "source": [
        "%%html\n",
        "<iframe src=\"https://www.rennoco.com/post/nfts-minting-and-copyright-what-you-should-know-as-an-artist\" width=\"1000\" height=\"600\"></iframe>"
      ],
      "metadata": {
        "colab": {
          "base_uri": "https://localhost:8080/",
          "height": 625
        },
        "id": "zn5cZpupE1tI",
        "outputId": "c559cf06-4e0d-44c8-9247-cf4c37100610"
      },
      "execution_count": null,
      "outputs": [
        {
          "output_type": "display_data",
          "data": {
            "text/plain": [
              "<IPython.core.display.HTML object>"
            ],
            "text/html": [
              "<iframe src=\"https://www.rennoco.com/post/nfts-minting-and-copyright-what-you-should-know-as-an-artist\" width=\"1000\" height=\"600\"></iframe>"
            ]
          },
          "metadata": {}
        }
      ]
    },
    {
      "cell_type": "markdown",
      "source": [
        "## 🧑‍💻 Create your handmade NFT\n",
        "- pick a visual (image/picture/painting/icon/) that you've created\n",
        "- create a collection on [OpenSea (testnets)](https://rinkeby.opensea.io/)\n",
        "- create an NFT into your collection\n",
        "- optional: sell one, buy one\n"
      ],
      "metadata": {
        "id": "K8pr-ql6FR_u"
      }
    },
    {
      "cell_type": "code",
      "source": [
        "%%html\n",
        "<iframe src=\"https://testnets.opensea.io/assets/0x88b48f654c30e99bc2e4a1559b4dcf1ad93fa656/89769744250440727196904159687936483504888185805067644192849881731067224784897/\" width=\"1000\" height=\"600\"></iframe>"
      ],
      "metadata": {
        "colab": {
          "base_uri": "https://localhost:8080/",
          "height": 625
        },
        "id": "WUnoU1o4Lui3",
        "outputId": "c6550995-5507-4f09-c248-332233edec46"
      },
      "execution_count": null,
      "outputs": [
        {
          "output_type": "display_data",
          "data": {
            "text/plain": [
              "<IPython.core.display.HTML object>"
            ],
            "text/html": [
              "<iframe src=\"https://testnets.opensea.io/assets/0x88b48f654c30e99bc2e4a1559b4dcf1ad93fa656/89769744250440727196904159687936483504888185805067644192849881731067224784897/\" width=\"1000\" height=\"600\"></iframe>"
            ]
          },
          "metadata": {}
        }
      ]
    },
    {
      "cell_type": "markdown",
      "source": [
        "# For the AI Artist\n",
        "\n",
        "- Paint for custon demand\n",
        "- Sell spontaneously\n",
        "\n",
        "![robot](https://content.instructables.com/ORIG/FVZ/DL4S/I4J79352/FVZDL4SI4J79352.jpg?auto=webp)"
      ],
      "metadata": {
        "id": "ZHuhOl2bCxkh"
      }
    },
    {
      "cell_type": "markdown",
      "source": [
        "## A sample painting\n",
        "\n",
        "![painting](https://ipfs.io/ipfs/QmXbpi13AocwDAR6rfnyLB4W1u9bNbf15yzMod3Mq9dzcy?filename=painting.png)"
      ],
      "metadata": {
        "id": "4O58D8PUPeMk"
      }
    },
    {
      "cell_type": "code",
      "source": [
        "%%html\n",
        "<iframe src=\"https://ipfs.io/ipfs/QmYo1kjVd3W3rgkEFDBV4dvSQuaE6UQyd8Z8Y3NZZyhxQU?filename=painting.json\" width=\"1000\" height=\"100\"></iframe>"
      ],
      "metadata": {
        "colab": {
          "base_uri": "https://localhost:8080/",
          "height": 125
        },
        "id": "ILzQVfooPlOh",
        "outputId": "d3332862-6311-4bf7-e675-6daadec8a17a"
      },
      "execution_count": null,
      "outputs": [
        {
          "output_type": "display_data",
          "data": {
            "text/plain": [
              "<IPython.core.display.HTML object>"
            ],
            "text/html": [
              "<iframe src=\"https://ipfs.io/ipfs/QmYo1kjVd3W3rgkEFDBV4dvSQuaE6UQyd8Z8Y3NZZyhxQU?filename=painting.json\" width=\"1000\" height=\"100\"></iframe>"
            ]
          },
          "metadata": {}
        }
      ]
    },
    {
      "cell_type": "markdown",
      "source": [
        "## 🧑‍💻 Warm-up\n",
        "Let's create a smart contract that allows an actor to mint an NFT.\n",
        "The art-work (painting) will be created on demand, by an AI.\n",
        "\n",
        "Write a smart contract:\n",
        "- allows to mint max 2 NFTs\n",
        "- max 1 NFT per wallet\n",
        "- the price for minting is 0.01 ether\n",
        "- minting can be toggled on/off\n",
        "- maximum supply can be increased by owner\n",
        "- contract can be destroyed by owner (to collect the funds)\n",
        "\n",
        "Let's go to [Remix](http://remix.ethereum.org/)"
      ],
      "metadata": {
        "id": "wILz8USyC2gg"
      }
    },
    {
      "cell_type": "code",
      "source": [
        "'''\n",
        "// SPDX-License-Identifier: MIT\n",
        "pragma solidity ^0.8.8;\n",
        "\n",
        "import \"@openzeppelin/contracts/token/ERC721/extensions/ERC721URIStorage.sol\";\n",
        "import \"@openzeppelin/contracts/access/Ownable.sol\";\n",
        "\n",
        "contract SimpleNFT is ERC721URIStorage, Ownable {\n",
        "    uint256 public mintPrice = 0.01 ether;\n",
        "    uint256 public supply;\n",
        "    uint256 public maxSupply;\n",
        "    bool public isMintEnabled;\n",
        "    mapping(address => uint256) public mintedByWallet;\n",
        "\n",
        "    constructor() payable ERC721(\"Simple NFT\", \"sNFT\") {\n",
        "        maxSupply = 2;\n",
        "    }\n",
        "\n",
        "    // only the deployer of the contract can run this function\n",
        "    function toggleIsMintEnabled() external onlyOwner {\n",
        "        isMintEnabled = !isMintEnabled;\n",
        "    }\n",
        "\n",
        "    // only the deployer of the contract can run this function\n",
        "    function setMaxSupply(uint256 _maxSupply) external onlyOwner {\n",
        "        maxSupply = _maxSupply;\n",
        "    }\n",
        "\n",
        "    function mint(string memory tokenURI) external payable {\n",
        "        require(isMintEnabled, \"Minting not enabled\");\n",
        "        require(mintedByWallet[msg.sender] < 1, \"Max reached for wallet\");\n",
        "        require(msg.value == mintPrice, \"Incorrect price\");\n",
        "        require(supply < maxSupply, \"Sold out\");\n",
        "\n",
        "        mintedByWallet[msg.sender]++;\n",
        "        supply++;\n",
        "        uint256 tokenId = supply;\n",
        "        _safeMint(msg.sender, tokenId);\n",
        "        _setTokenURI(tokenId, tokenURI);\n",
        "    }\n",
        "\n",
        "    function remove() external onlyOwner {\n",
        "        selfdestruct(payable(address(0xC677dFeB31975303A9641e9BDA396314105b2052)));\n",
        "    }\n",
        "}\n",
        "'''"
      ],
      "metadata": {
        "id": "QVAu5H7FRkrP"
      },
      "execution_count": null,
      "outputs": []
    },
    {
      "cell_type": "markdown",
      "source": [
        "## Source Code\n",
        "\n",
        "for minting:\n",
        "- max (initial) supply: 10\n",
        "- max mints per wallet: 2\n",
        "- mint price: 0.01 ether"
      ],
      "metadata": {
        "id": "Z6MTuNyKBDph"
      }
    },
    {
      "cell_type": "code",
      "source": [
        "%%html\n",
        "<iframe src=\"https://ipfs.io/ipfs/QmPLsEHXtqDhncEuru1EmCzW7vS8SeQEFNMJQXXLuDNhQT\" width=\"1000\" height=\"600\"></iframe>"
      ],
      "metadata": {
        "colab": {
          "base_uri": "https://localhost:8080/",
          "height": 625
        },
        "id": "aMpKnwLZ-HY1",
        "outputId": "35166468-3e63-4978-b251-7fbf6a8a384d"
      },
      "execution_count": null,
      "outputs": [
        {
          "output_type": "display_data",
          "data": {
            "text/plain": [
              "<IPython.core.display.HTML object>"
            ],
            "text/html": [
              "<iframe src=\"https://ipfs.io/ipfs/QmPLsEHXtqDhncEuru1EmCzW7vS8SeQEFNMJQXXLuDNhQT\" width=\"1000\" height=\"600\"></iframe>"
            ]
          },
          "metadata": {}
        }
      ]
    },
    {
      "cell_type": "markdown",
      "source": [
        "## Deployment\n",
        "\n",
        "Deploy compiled smart contract to Rinkeby test network\n",
        "\n",
        "![remix](https://kauthentechstorage.blob.core.windows.net/notebookimages/remix_05.png)"
      ],
      "metadata": {
        "id": "WIRY_cpqAix6"
      }
    },
    {
      "cell_type": "markdown",
      "source": [
        "The source code has been published to the IPFS\n",
        "\n",
        "![remix](https://kauthentechstorage.blob.core.windows.net/notebookimages/remix_06.png)"
      ],
      "metadata": {
        "id": "98RIqnbVYQdK"
      }
    },
    {
      "cell_type": "code",
      "source": [
        "%%html\n",
        "<iframe src=\"https://rinkeby.etherscan.io/tx/0x6f3eaf49cf7ac7d64fc761e415184313045e98ba0baf819c9d894df43f1dddfe\" width=\"1000\" height=\"600\"></iframe>"
      ],
      "metadata": {
        "colab": {
          "base_uri": "https://localhost:8080/",
          "height": 625
        },
        "id": "dXuKF4ft8tSE",
        "outputId": "a2f428b3-2147-45e9-91ea-dd343530297a"
      },
      "execution_count": null,
      "outputs": [
        {
          "output_type": "display_data",
          "data": {
            "text/plain": [
              "<IPython.core.display.HTML object>"
            ],
            "text/html": [
              "<iframe src=\"https://rinkeby.etherscan.io/tx/0x6f3eaf49cf7ac7d64fc761e415184313045e98ba0baf819c9d894df43f1dddfe\" width=\"1000\" height=\"600\"></iframe>"
            ]
          },
          "metadata": {}
        }
      ]
    },
    {
      "cell_type": "markdown",
      "source": [
        "## Transaction Scan"
      ],
      "metadata": {
        "id": "xYzn1AH2CKMA"
      }
    },
    {
      "cell_type": "code",
      "source": [
        "%%html\n",
        "<iframe src=\"https://rinkeby.etherscan.io/address/0xe17c396a89f4931989581110432532247372fc28\" width=\"1000\" height=\"600\"></iframe>"
      ],
      "metadata": {
        "colab": {
          "base_uri": "https://localhost:8080/",
          "height": 625
        },
        "id": "8d1Y8vvACTXo",
        "outputId": "93cbf3f8-e00f-4fe1-8bdb-7beddfd3365c"
      },
      "execution_count": null,
      "outputs": [
        {
          "output_type": "display_data",
          "data": {
            "text/plain": [
              "<IPython.core.display.HTML object>"
            ],
            "text/html": [
              "<iframe src=\"https://rinkeby.etherscan.io/address/0xe17c396a89f4931989581110432532247372fc28\" width=\"1000\" height=\"600\"></iframe>"
            ]
          },
          "metadata": {}
        }
      ]
    },
    {
      "cell_type": "markdown",
      "source": [
        "## 🧑‍💻 Mint from AI!"
      ],
      "metadata": {
        "id": "81PPahOPRUqZ"
      }
    },
    {
      "cell_type": "markdown",
      "source": [
        "### Get a painting\n",
        "- I've trained a model (GAN) to paint landscapes. **Interested?** ⟶ follow a next edition of [ESTP - Artificial intelligence for data science](https://ec.europa.eu/eurostat/cros/content/artificial-intelligence-data-science-2022_en)\n",
        "- Download the model and generate random paintings, until it produces one you like 🤪"
      ],
      "metadata": {
        "id": "V8Z-JIAHSUDp"
      }
    },
    {
      "cell_type": "code",
      "source": [
        "from matplotlib import pyplot as plt\n",
        "import numpy as np\n",
        "import os\n",
        "from keras.models import load_model"
      ],
      "metadata": {
        "id": "0QW6bm7ZUJ_-"
      },
      "execution_count": null,
      "outputs": []
    },
    {
      "cell_type": "code",
      "source": [
        "!wget https://kauthentechstorage.blob.core.windows.net/models/landscape_generator.h5"
      ],
      "metadata": {
        "colab": {
          "base_uri": "https://localhost:8080/"
        },
        "id": "fIqgCsXdUNI9",
        "outputId": "639ae112-c7c4-4abe-9630-81eb0e44dc5b"
      },
      "execution_count": null,
      "outputs": [
        {
          "output_type": "stream",
          "name": "stdout",
          "text": [
            "--2022-03-17 14:44:43--  https://kauthentechstorage.blob.core.windows.net/models/landscape_generator.h5\n",
            "Resolving kauthentechstorage.blob.core.windows.net (kauthentechstorage.blob.core.windows.net)... 52.239.140.42\n",
            "Connecting to kauthentechstorage.blob.core.windows.net (kauthentechstorage.blob.core.windows.net)|52.239.140.42|:443... connected.\n",
            "HTTP request sent, awaiting response... 200 OK\n",
            "Length: 5563032 (5.3M) [application/octet-stream]\n",
            "Saving to: ‘landscape_generator.h5’\n",
            "\n",
            "landscape_generator 100%[===================>]   5.30M  2.94MB/s    in 1.8s    \n",
            "\n",
            "2022-03-17 14:44:45 (2.94 MB/s) - ‘landscape_generator.h5’ saved [5563032/5563032]\n",
            "\n"
          ]
        }
      ]
    },
    {
      "cell_type": "code",
      "source": [
        "model = load_model('landscape_generator.h5')"
      ],
      "metadata": {
        "colab": {
          "base_uri": "https://localhost:8080/"
        },
        "id": "ByX1HTWIUP2u",
        "outputId": "93f5a282-ab2d-4db2-addc-8fdb1e59450e"
      },
      "execution_count": null,
      "outputs": [
        {
          "output_type": "stream",
          "name": "stdout",
          "text": [
            "WARNING:tensorflow:No training configuration found in the save file, so the model was *not* compiled. Compile it manually.\n"
          ]
        }
      ]
    },
    {
      "cell_type": "code",
      "source": [
        "def generate_latent_points(latent_dim, n_samples):\n",
        "  x_input = np.random.randn(latent_dim * n_samples)\n",
        "  x_input = x_input.reshape(n_samples, latent_dim)\n",
        "  return x_input"
      ],
      "metadata": {
        "id": "LQwZNwJiUs_f"
      },
      "execution_count": null,
      "outputs": []
    },
    {
      "cell_type": "markdown",
      "source": [
        "Rerun (Ctrl+Enter) this cell as often as necessary"
      ],
      "metadata": {
        "id": "XT_IgXGGUxjE"
      }
    },
    {
      "cell_type": "code",
      "source": [
        "latent = generate_latent_points(100, 1)\n",
        "painting = model.predict(latent)[0]\n",
        "\n",
        "plt.figure(figsize=(3, 3))\n",
        "plt.imshow((painting + 1) / 2.0)\n",
        "plt.gca().set_axis_off()\n",
        "plt.subplots_adjust(top = 1, bottom = 0, right = 1, left = 0, hspace = 0, wspace = 0)\n",
        "plt.margins(0,0)\n",
        "plt.savefig('painting.png')\n",
        "plt.show()"
      ],
      "metadata": {
        "colab": {
          "base_uri": "https://localhost:8080/",
          "height": 247
        },
        "id": "Yb29FLcAUwOl",
        "outputId": "88a71e3f-2b84-4975-ac4d-881b3e5da5db"
      },
      "execution_count": null,
      "outputs": [
        {
          "output_type": "display_data",
          "data": {
            "text/plain": [
              "<Figure size 216x216 with 1 Axes>"
            ],
            "image/png": "[encoded data removed]"
          },
          "metadata": {
            "needs_background": "light"
          }
        }
      ]
    },
    {
      "cell_type": "markdown",
      "source": [
        "### Save painting to IPFS"
      ],
      "metadata": {
        "id": "1CwSP_kBU-sg"
      }
    },
    {
      "cell_type": "code",
      "source": [
        "import requests\n",
        "import json"
      ],
      "metadata": {
        "id": "gjfgPmbgVB4F"
      },
      "execution_count": null,
      "outputs": []
    },
    {
      "cell_type": "code",
      "source": [
        "response = requests.post('https://ipfs.infura.io:5001/api/v0/add', files={'painting': open('painting.png', 'rb')})\n",
        "imageUri = response.json()['Hash']\n",
        "f'https://ipfs.io/ipfs/{imageUri}?filename=painting.png'"
      ],
      "metadata": {
        "colab": {
          "base_uri": "https://localhost:8080/",
          "height": 35
        },
        "id": "gWBjPKEtVEoV",
        "outputId": "5b7a34c3-5045-4a7b-c9ad-05ed9286fe15"
      },
      "execution_count": null,
      "outputs": [
        {
          "output_type": "execute_result",
          "data": {
            "text/plain": [
              "'https://ipfs.io/ipfs/QmRQkYgUa9oTHm3A8fZAWk1hfgUbbZM654vZYmB1sUvjab?filename=painting.png'"
            ],
            "application/vnd.google.colaboratory.intrinsic+json": {
              "type": "string"
            }
          },
          "metadata": {},
          "execution_count": 24
        }
      ]
    },
    {
      "cell_type": "markdown",
      "source": [
        "### Save json to IPFS"
      ],
      "metadata": {
        "id": "5e-YbJ_TVn1F"
      }
    },
    {
      "cell_type": "code",
      "source": [
        "token = {\n",
        "    'name': 'Meadow',                                     # give your NFT a name\n",
        "    'description': 'Endless meadow, up to the horizon',   # describe what you see\n",
        "    'image': f'https://ipfs.io/ipfs/{imageUri}?filename=painting.png'\n",
        "}\n",
        "token"
      ],
      "metadata": {
        "colab": {
          "base_uri": "https://localhost:8080/"
        },
        "id": "TP0Ush4pVtMt",
        "outputId": "b766bc38-6954-4ccf-fe95-e5a4b64a2d49"
      },
      "execution_count": null,
      "outputs": [
        {
          "output_type": "execute_result",
          "data": {
            "text/plain": [
              "{'description': 'Endless meadow, up to the horizon',\n",
              " 'image': 'https://ipfs.io/ipfs/QmRQkYgUa9oTHm3A8fZAWk1hfgUbbZM654vZYmB1sUvjab?filename=painting.png',\n",
              " 'name': 'Meadow'}"
            ]
          },
          "metadata": {},
          "execution_count": 25
        }
      ]
    },
    {
      "cell_type": "code",
      "source": [
        "response = requests.post('https://ipfs.infura.io:5001/api/v0/add', files={'token': json.dumps(token, indent=4)})\n",
        "tokenUri = response.json()['Hash']\n",
        "f'https://ipfs.io/ipfs/{tokenUri}?filename=painting.json'"
      ],
      "metadata": {
        "colab": {
          "base_uri": "https://localhost:8080/",
          "height": 35
        },
        "id": "6zXFruZLWiTV",
        "outputId": "dd24b0fd-5bf4-4ed5-ae49-1b036a90e703"
      },
      "execution_count": null,
      "outputs": [
        {
          "output_type": "execute_result",
          "data": {
            "text/plain": [
              "'https://ipfs.io/ipfs/QmePoA1N5UsiNijaBt6MNFUVJdH8XjLYwXNk7bjYSFiEcK?filename=painting.json'"
            ],
            "application/vnd.google.colaboratory.intrinsic+json": {
              "type": "string"
            }
          },
          "metadata": {},
          "execution_count": 26
        }
      ]
    },
    {
      "cell_type": "markdown",
      "source": [
        "### Access the smart contract\n",
        "\n",
        "- Get and compile the [source code](https://ipfs.io/ipfs/QmPLsEHXtqDhncEuru1EmCzW7vS8SeQEFNMJQXXLuDNhQT)\n",
        "- Connect to the smart contract [0xe17C396a89F4931989581110432532247372Fc28](https://rinkeby.etherscan.io/address/0xe17c396a89f4931989581110432532247372fc28)\n",
        "- Mint your painting for 10'000'000 GWei!\n",
        "\n"
      ],
      "metadata": {
        "id": "eiKg8-XGRslQ"
      }
    },
    {
      "cell_type": "markdown",
      "source": [
        "![remix](https://kauthentechstorage.blob.core.windows.net/notebookimages/remix_07.png)\n"
      ],
      "metadata": {
        "id": "sBHcrLl1aCNi"
      }
    },
    {
      "cell_type": "code",
      "source": [
        "f'https://ipfs.io/ipfs/{tokenUri}?filename=painting.json'"
      ],
      "metadata": {
        "colab": {
          "base_uri": "https://localhost:8080/",
          "height": 35
        },
        "id": "JxtVWrfTaS5c",
        "outputId": "a385b708-1290-4b25-b1a0-38143c2960c8"
      },
      "execution_count": null,
      "outputs": [
        {
          "output_type": "execute_result",
          "data": {
            "text/plain": [
              "'https://ipfs.io/ipfs/QmWsLKWWxDWWsgWVnQ4RpSGwXuZDj5z4NsVnwXAUx2ANmD?filename=painting.json'"
            ],
            "application/vnd.google.colaboratory.intrinsic+json": {
              "type": "string"
            }
          },
          "metadata": {},
          "execution_count": 31
        }
      ]
    },
    {
      "cell_type": "markdown",
      "source": [
        "### Sell your NFT 💰\n",
        "\n",
        "in a Test-Marketplace, e.g. [OpenSea](https://testnets.opensea.io/account)\n"
      ],
      "metadata": {
        "id": "BPtyCrOWbtsB"
      }
    },
    {
      "cell_type": "markdown",
      "source": [
        "![remix](https://kauthentechstorage.blob.core.windows.net/notebookimages/remix_08.png)\n"
      ],
      "metadata": {
        "id": "OpO34Tx5Z8gh"
      }
    },
    {
      "cell_type": "code",
      "source": [
        "%%html\n",
        "<iframe src=\"https://testnets.opensea.io/collection/painting-thrycez4kk\" width=\"1000\" height=\"600\"></iframe>"
      ],
      "metadata": {
        "colab": {
          "base_uri": "https://localhost:8080/",
          "height": 625
        },
        "id": "fIk2eUHD4udg",
        "outputId": "1087295d-7730-47aa-84a7-baee7301b7e1"
      },
      "execution_count": null,
      "outputs": [
        {
          "output_type": "display_data",
          "data": {
            "text/plain": [
              "<IPython.core.display.HTML object>"
            ],
            "text/html": [
              "<iframe src=\"https://testnets.opensea.io/collection/painting-thrycez4kk\" width=\"1000\" height=\"600\"></iframe>"
            ]
          },
          "metadata": {}
        }
      ]
    },
    {
      "cell_type": "markdown",
      "source": [
        "## Etherscan"
      ],
      "metadata": {
        "id": "xxmcF1y9eGND"
      }
    },
    {
      "cell_type": "code",
      "source": [
        "%%html\n",
        "<iframe src=\"https://rinkeby.etherscan.io/address/0xe17c396a89f4931989581110432532247372fc28\" width=\"1000\" height=\"600\"></iframe>"
      ],
      "metadata": {
        "colab": {
          "base_uri": "https://localhost:8080/",
          "height": 625
        },
        "id": "w_mZ1HD1eMPs",
        "outputId": "cf8108bb-078f-408b-f126-782cc9351968"
      },
      "execution_count": null,
      "outputs": [
        {
          "output_type": "display_data",
          "data": {
            "text/plain": [
              "<IPython.core.display.HTML object>"
            ],
            "text/html": [
              "<iframe src=\"https://rinkeby.etherscan.io/address/0xe17c396a89f4931989581110432532247372fc28\" width=\"1000\" height=\"600\"></iframe>"
            ]
          },
          "metadata": {}
        }
      ]
    },
    {
      "cell_type": "code",
      "source": [
        "%%html\n",
        "<iframe src=\"https://rinkeby.etherscan.io/token/0xe17c396a89f4931989581110432532247372fc28\" width=\"1000\" height=\"600\"></iframe>"
      ],
      "metadata": {
        "colab": {
          "base_uri": "https://localhost:8080/",
          "height": 625
        },
        "id": "bXWnBVycejqs",
        "outputId": "b44a7b22-96dd-4c95-cb73-51b5b1c6f406"
      },
      "execution_count": null,
      "outputs": [
        {
          "output_type": "display_data",
          "data": {
            "text/plain": [
              "<IPython.core.display.HTML object>"
            ],
            "text/html": [
              "<iframe src=\"https://rinkeby.etherscan.io/token/0xe17c396a89f4931989581110432532247372fc28\" width=\"1000\" height=\"600\"></iframe>"
            ]
          },
          "metadata": {}
        }
      ]
    },
    {
      "cell_type": "markdown",
      "source": [
        "# UP NEXT\n",
        "[Applications](https://colab.research.google.com/drive/1uIz4qeGZb9W0zgaAP_oEKhfCpcoFRLJo?usp=sharing)"
      ],
      "metadata": {
        "id": "hqG5imKuEYs6"
      }
    }
  ]
}