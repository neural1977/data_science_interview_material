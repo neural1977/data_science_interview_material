{
  "nbformat": 4,
  "nbformat_minor": 0,
  "metadata": {
    "colab": {
      "provenance": [],
      "toc_visible": true
    },
    "kernelspec": {
      "name": "python3",
      "display_name": "Python 3"
    },
    "language_info": {
      "name": "python"
    }
  },
  "cells": [
    {
      "cell_type": "markdown",
      "source": [
        "# INTRODUCTION TO BLOCKCHAIN FOR OFFICIAL STATISTICS\n",
        "\n",
        "## ICON-Institute\n",
        "\n",
        "### Dr. Christian Kauth"
      ],
      "metadata": {
        "id": "-yX6c5HoncvC"
      }
    },
    {
      "cell_type": "markdown",
      "source": [
        "# Decentralized Apps (DApps)\n",
        "\n",
        "- App can run on many machines\n",
        "- Computational resources are owned by multiple organizations and people\n",
        "- No actor is controlling the whole network\n",
        "- Can build Applications on top of it"
      ],
      "metadata": {
        "id": "5KQTfUAwlbNx"
      }
    },
    {
      "cell_type": "markdown",
      "source": [
        "![dapp](https://images.unsplash.com/photo-1639322537228-f710d846310a?ixlib=rb-1.2.1&ixid=MnwxMjA3fDB8MHxwaG90by1wYWdlfHx8fGVufDB8fHx8&auto=format&fit=crop&w=2664&q=80)"
      ],
      "metadata": {
        "id": "60_t8C5dlraP"
      }
    },
    {
      "cell_type": "markdown",
      "source": [
        "## Why DApps?\n",
        "\n",
        "- Reliability\n",
        "- Secure (nobody can amend code or data)\n",
        "- Transparent\n",
        "\n",
        "**→ TRUST** \n",
        "\n",
        "![aquarium](https://i0.wp.com/katzenworld.co.uk/wp-content/uploads/2019/11/kitten-1154693_1280.jpg?fit=1280%2C853&ssl=1)"
      ],
      "metadata": {
        "id": "4Gslmxiam2Ln"
      }
    },
    {
      "cell_type": "markdown",
      "source": [
        "## Why Ethereum?\n",
        "\n",
        "- Allows development of DApps\n",
        "- Big developers community\n",
        "- In-demand skill"
      ],
      "metadata": {
        "id": "7KY3uL5foerv"
      }
    },
    {
      "cell_type": "markdown",
      "source": [
        "# Ethereum\n",
        "\n",
        "- The _world computer_ : Write code and deploy it to this blockchain and have it executed in a decentralized manner\n",
        "- Turing-complete virtual machine\n",
        "- Public blockchain (main net and test net)\n",
        "- Ethereum Blockchains can be of type\n",
        "  - Public\n",
        "  - Consortium\n",
        "  - Private\n",
        "\n",
        "![ethereum](https://www.researchgate.net/profile/Sina-Rafati-Niya/publication/324917551/figure/fig1/AS:622183810347008@1525351588712/Implementation-Architecture-Integrating-Android-and-Ethereum-Clients.png)"
      ],
      "metadata": {
        "id": "e5JD1CX-stjX"
      }
    },
    {
      "cell_type": "markdown",
      "source": [
        "![Web3j](https://docs.web3j.io/4.8.7/img/web3j_network.png)"
      ],
      "metadata": {
        "id": "bzNUjSmhCkcK"
      }
    },
    {
      "cell_type": "markdown",
      "source": [
        "## Transactions\n",
        "\n",
        "- Transfer Ether\n",
        "- Deploy a Smart Contract\n",
        "- Call a Smart Contract\n",
        "\n",
        "![transaction](https://docs.web3j.io/4.8.7/img/web3j_transaction.png)"
      ],
      "metadata": {
        "id": "EDJzIDsfCv7u"
      }
    },
    {
      "cell_type": "markdown",
      "source": [
        "## Account\n",
        "\n",
        "Bank account | Ethereum account\n",
        "--- | ---\n",
        "issued by bank (mostly slow) | can be created by any user at any time\n",
        "for payments | for payments and access to DApps\n",
        "access can be restored by bank | access cannot be restored (!do not lose access!)\n",
        "can be suspended by bank | cannot be suspended or censored\n",
        "\n",
        "![bank](https://images.unsplash.com/photo-1501167786227-4cba60f6d58f?ixlib=rb-1.2.1&ixid=MnwxMjA3fDB8MHxwaG90by1wYWdlfHx8fGVufDB8fHx8&auto=format&fit=crop&w=2340&q=80)\n"
      ],
      "metadata": {
        "id": "SNI6y6o3sxFJ"
      }
    },
    {
      "cell_type": "markdown",
      "source": [
        "## Wallet\n",
        "- ✅ stores keys\n",
        "- 🚫 does not store money, funds or ether\n",
        "\n",
        "- listens to transactions\n",
        "- signs transactions\n",
        "\n",
        "Wallets can be accessed via CLI, desktop mobile apps, or the web browser\n",
        "\n",
        "![keys](https://www.researchgate.net/profile/Anastasios-Kalogeropoulos/publication/328342750/figure/fig3/AS:682737052692487@1539788606950/Simplified-digitally-signed-transaction-on-blockchain.png)\n",
        "\n"
      ],
      "metadata": {
        "id": "Fm-excdMq2tj"
      }
    },
    {
      "cell_type": "code",
      "source": [
        "#@title\n",
        "%%html\n",
        "<h1 style=\"color:red\">Keep your private key a secret!</h1></br>\n",
        "<img src=\"https://images.unsplash.com/photo-1618498081964-ab0c002e0935?ixlib=rb-1.2.1&ixid=MnwxMjA3fDB8MHxwaG90by1wYWdlfHx8fGVufDB8fHx8&auto=format&fit=crop&w=987&q=80\" alt=\"drawing\" height=\"600\"/>"
      ],
      "metadata": {
        "colab": {
          "base_uri": "https://localhost:8080/",
          "height": 696
        },
        "id": "PkBMK852xX8V",
        "outputId": "c5be4f02-e575-4126-91dc-01004c00d15c"
      },
      "execution_count": null,
      "outputs": [
        {
          "output_type": "display_data",
          "data": {
            "text/plain": [
              "<IPython.core.display.HTML object>"
            ],
            "text/html": [
              "<h1 style=\"color:red\">Keep your private key a secret!</h1></br>\n",
              "<img src=\"https://images.unsplash.com/photo-1618498081964-ab0c002e0935?ixlib=rb-1.2.1&ixid=MnwxMjA3fDB8MHxwaG90by1wYWdlfHx8fGVufDB8fHx8&auto=format&fit=crop&w=987&q=80\" alt=\"drawing\" height=\"600\"/>"
            ]
          },
          "metadata": {}
        }
      ]
    },
    {
      "cell_type": "markdown",
      "source": [
        "### Install Wallet [optional]\n",
        "\n",
        "- Install a [Wallet](https://ethereum.org/en/wallets/find-wallet/) to your machine/browser/phone\n",
        "- For this course, I recommend [MetaMask](https://ethereum.org/en/wallets/find-wallet/).\n",
        "  - Install Metamask as a browser extension\n",
        "  - Create a password\n",
        "  - Save your secret phrase to a safe location\n",
        "  - Switch to the Rinkeby test network"
      ],
      "metadata": {
        "id": "XcQuaLE_FKCB"
      }
    },
    {
      "cell_type": "code",
      "source": [
        "%%html\n",
        "<iframe src=\"https://metamask.io/download/\" width=\"1000\" height=\"600\"></iframe>"
      ],
      "metadata": {
        "colab": {
          "base_uri": "https://localhost:8080/",
          "height": 625
        },
        "id": "OOO_C0WNGiV6",
        "outputId": "76ac05bf-a560-4c57-e5f8-68cdcfc6c1ad"
      },
      "execution_count": null,
      "outputs": [
        {
          "output_type": "display_data",
          "data": {
            "text/plain": [
              "<IPython.core.display.HTML object>"
            ],
            "text/html": [
              "<iframe src=\"https://metamask.io/download/\" width=\"1000\" height=\"600\"></iframe>"
            ]
          },
          "metadata": {}
        }
      ]
    },
    {
      "cell_type": "markdown",
      "source": [
        "You may have to toggle the _Show/hide test networks_ button\n",
        "![metamask](https://kauthentechstorage.blob.core.windows.net/notebookimages/metaMask01.png)"
      ],
      "metadata": {
        "id": "YDWwqQS-K07m"
      }
    },
    {
      "cell_type": "markdown",
      "source": [
        "## Ether\n",
        "- crypto-currency\n",
        "- to pay for processing your code on the _world computer_\n",
        "- pay _miners_ to process _transactions_\n",
        "- associated with an address and _wallet_ file\n",
        "- 1 ether = $10^{18}$ wei\n",
        "\n",
        "Where to get Ether?\n",
        "- [Sale of the Century: The Inside Story of Ethereum's 2014 Premine](https://www.coindesk.com/markets/2020/07/11/sale-of-the-century-the-inside-story-of-ethereums-2014-premine/)\n",
        "- On an exchange\n",
        "- Provide Ethereum infrastructure ⟶ **mining**\n",
        "- An Ethereum Test network (decoupled from main network)\n",
        "  - [Ropsten](https://faucet.dimensions.network/) (oldest and similar to main network)\n",
        "  - [Rinkeby](https://www.rinkeby.io/) (faster and uses **proof-of-authority**)\n"
      ],
      "metadata": {
        "id": "18vftKi_flQ9"
      }
    },
    {
      "cell_type": "markdown",
      "source": [
        "## Faucet\n",
        "\n",
        "Get some Ether (for free) from a faucet on a **test network**\n",
        "\n",
        "![faucet](https://images.unsplash.com/photo-1609338447056-d1f51a877005?ixlib=rb-1.2.1&ixid=MnwxMjA3fDB8MHxwaG90by1wYWdlfHx8fGVufDB8fHx8&auto=format&fit=crop&w=2662&q=80)"
      ],
      "metadata": {
        "id": "xeK5LVjg0kIb"
      }
    },
    {
      "cell_type": "markdown",
      "source": [
        "### Rinkeby [optional]\n",
        "\n",
        "Claim some Ethers for the Rinkeby test network from a [Faucet](https://faucets.chain.link/rinkeby)\n",
        "  - Connect your wallet\n",
        "  - Solve the CAPTCHA\n",
        "  - Get the Ethers"
      ],
      "metadata": {
        "id": "swUELepKJ3V7"
      }
    },
    {
      "cell_type": "code",
      "source": [
        "%%html\n",
        "<iframe src=\"https://faucets.chain.link/rinkeby\" width=\"1000\" height=\"600\"></iframe>"
      ],
      "metadata": {
        "colab": {
          "base_uri": "https://localhost:8080/",
          "height": 625
        },
        "id": "Q1eaGvXhUb1i",
        "outputId": "d71ce539-88fe-4c43-cece-98aa63a83610"
      },
      "execution_count": null,
      "outputs": [
        {
          "output_type": "display_data",
          "data": {
            "text/plain": [
              "<IPython.core.display.HTML object>"
            ],
            "text/html": [
              "<iframe src=\"https://faucets.chain.link/rinkeby\" width=\"1000\" height=\"600\"></iframe>"
            ]
          },
          "metadata": {}
        }
      ]
    },
    {
      "cell_type": "markdown",
      "source": [
        "Connect to Wallet\n",
        "![metamask](https://kauthentechstorage.blob.core.windows.net/notebookimages/metaMask02.png)"
      ],
      "metadata": {
        "id": "5FAHkR1YU1Up"
      }
    },
    {
      "cell_type": "markdown",
      "source": [
        "![metamask](https://kauthentechstorage.blob.core.windows.net/notebookimages/metaMask03.png)"
      ],
      "metadata": {
        "id": "xGfsm1bSU3BQ"
      }
    },
    {
      "cell_type": "markdown",
      "source": [
        "## Trading Platform\n",
        "\n",
        "You can buy/trade/sell cryptocurrencies on a trading platform.\n",
        "\n",
        "- [Kraken](https://en.wikipedia.org/wiki/Kraken_(company)) is a United States-based cryptocurrency exchange and bank, founded in 2011. The exchange provides trading between cryptocurrency and fiat currencies, and provides price information to Bloomberg Terminal.\n",
        "\n",
        "- [Revolut](https://en.wikipedia.org/wiki/Revolut) Revolut is a British financial technology company that offers banking services. Headquartered in London, it was founded in 2015 by Nikolay Storonsky and Vlad Yatsenko. It offers accounts featuring currency exchange, debit cards, virtual cards, Apple Pay, interest-bearing \"vaults\", commission-free stock trading, crypto, commodities, and other services.\n",
        "\n",
        "- [Yuh](https://www.yuh.com) At Yuh, we believe that it’s your life, your desires, your daring that should shape the way you manage your money. We offer you the opportunity to pay, save and invest with just one app. As easy as pie, but with the secure backing of Switzerland’s leading online banks."
      ],
      "metadata": {
        "id": "blnU6R6pBZwd"
      }
    },
    {
      "cell_type": "markdown",
      "source": [
        "### Kraken [optional]\n",
        "\n",
        "[Kraken](https://www.kraken.com/) is one of the lowest-cost options for buying/trading/selling crypto-currencies. (exchange & broker)"
      ],
      "metadata": {
        "id": "K4lzzGWjFUtB"
      }
    },
    {
      "cell_type": "markdown",
      "source": [
        "## Mining\n",
        "\n",
        "- In cryptocurrency networks, **mining is a validation of transactions**. \n",
        "- For this effort, **successful miners obtain new cryptocurrency as a reward**.\n",
        "- To become a miner, you need to set up a **mining client**\n",
        "  - [Geth](https://geth.ethereum.org/) (written in Go)\n",
        "  - [Parity](https://www.parity.io/technologies/ethereum/) (written in Rust)\n",
        "- You also need **compute power** and enough **storage to download the Ethereum chain**!\n",
        "\n",
        "![mining](https://images.unsplash.com/photo-1541587943171-46b1eacd11fa?ixlib=rb-1.2.1&ixid=MnwxMjA3fDB8MHxwaG90by1wYWdlfHx8fGVufDB8fHx8&auto=format&fit=crop&w=2340&q=80)\n",
        "\n"
      ],
      "metadata": {
        "id": "LpDaCapZOWRH"
      }
    },
    {
      "cell_type": "markdown",
      "source": [
        "####💡 Quiz\n",
        "**How big is the Ethereum Blockchain? (in giga-bytes)**"
      ],
      "metadata": {
        "id": "13qSyvFezHPo"
      }
    },
    {
      "cell_type": "markdown",
      "source": [
        "### Virtual Machine [optional]\n",
        "\n",
        "For the sake of a little demo, let's rent a machine on the [Google Cloud Platform](https://cloud.google.com/)\n",
        "\n",
        "1. Create a Project\n",
        "![gpc](https://kauthentechstorage.blob.core.windows.net/notebookimages/gcp_blockchain_mining01.png)\n",
        "\n",
        "2. Create a Virtual Machine\n",
        "![gpc](https://kauthentechstorage.blob.core.windows.net/notebookimages/gcp_blockchain_mining02.png)\n",
        "\n",
        "3. Add sufficient and fast storage to the machine\n",
        "![gpc](https://kauthentechstorage.blob.core.windows.net/notebookimages/gcp_blockchain_mining03.png)\n",
        "\n",
        "  a. You may have to ask for a quota increase in SSD storage\n",
        "  ![gpc](https://kauthentechstorage.blob.core.windows.net/notebookimages/gcp_blockchain_mining04.png)\n",
        "\n",
        "  ![gpc](https://kauthentechstorage.blob.core.windows.net/notebookimages/gcp_blockchain_mining05.png)\n",
        "\n",
        "4. After a few seconds, the VM is up and running, you can SSH into it\n",
        "  ![gpc](https://kauthentechstorage.blob.core.windows.net/notebookimages/gcp_blockchain_mining06.png)"
      ],
      "metadata": {
        "id": "REz-HiiRwSDE"
      }
    },
    {
      "cell_type": "markdown",
      "source": [
        "sudo su -"
      ],
      "metadata": {
        "id": "PzGNcaX5jZ5Y"
      }
    },
    {
      "cell_type": "markdown",
      "source": [
        "### Geth [optional]\n",
        "\n",
        "- written in Go\n",
        "- install Geth on your GPC machine"
      ],
      "metadata": {
        "id": "dP9oenMtkFuA"
      }
    },
    {
      "cell_type": "code",
      "source": [
        "%%html\n",
        "<iframe src=\"https://geth.ethereum.org/\" width=\"1000\" height=\"600\"></iframe>"
      ],
      "metadata": {
        "colab": {
          "base_uri": "https://localhost:8080/",
          "height": 625
        },
        "id": "BhGFaHSnj9eI",
        "outputId": "ccb36e61-4944-491c-b78d-7cc2abeb6462"
      },
      "execution_count": null,
      "outputs": [
        {
          "output_type": "display_data",
          "data": {
            "text/plain": [
              "<IPython.core.display.HTML object>"
            ],
            "text/html": [
              "<iframe src=\"https://geth.ethereum.org/\" width=\"1000\" height=\"600\"></iframe>"
            ]
          },
          "metadata": {}
        }
      ]
    },
    {
      "cell_type": "markdown",
      "source": [
        "#### Install"
      ],
      "metadata": {
        "id": "5Cy21sUUIf0a"
      }
    },
    {
      "cell_type": "code",
      "source": [
        "#run this code on your GPC VM\n",
        "%%bash\n",
        "wget https://gethstore.blob.core.windows.net/builds/geth-linux-amd64-1.10.16-20356e57.tar.gz -nv\n",
        "tar -xvf geth-linux-amd64-1.10.16-20356e57.tar.gz\n",
        "cd geth-linux-amd64-1.10.16-20356e57\n",
        "chmod +x geth\n",
        "cp geth /usr/local/bin/\n",
        "geth version"
      ],
      "metadata": {
        "colab": {
          "base_uri": "https://localhost:8080/"
        },
        "id": "ao1hY1oAjvke",
        "outputId": "c6b8e3bc-aacc-4fbe-b0b2-76eb10b8eed2"
      },
      "execution_count": null,
      "outputs": [
        {
          "output_type": "stream",
          "name": "stdout",
          "text": [
            "geth-linux-amd64-1.10.16-20356e57/\n",
            "geth-linux-amd64-1.10.16-20356e57/COPYING\n",
            "geth-linux-amd64-1.10.16-20356e57/geth\n",
            "Geth\n",
            "Version: 1.10.16-stable\n",
            "Git Commit: 20356e57b119b4e70ce47665a71964434e15200d\n",
            "Git Commit Date: 20220215\n",
            "Architecture: amd64\n",
            "Go Version: go1.17.5\n",
            "Operating System: linux\n",
            "GOPATH=\n",
            "GOROOT=go\n"
          ]
        },
        {
          "output_type": "stream",
          "name": "stderr",
          "text": [
            "2022-03-15 09:30:39 URL:https://gethstore.blob.core.windows.net/builds/geth-linux-amd64-1.10.16-20356e57.tar.gz [20536251/20536251] -> \"geth-linux-amd64-1.10.16-20356e57.tar.gz\" [1]\n"
          ]
        }
      ]
    },
    {
      "cell_type": "markdown",
      "source": [
        "#### Download Blockchain\n",
        "\n",
        "Download the Ethereum blockchain in the background (with _tmux_).\n",
        "\n",
        "This takes a few hours..."
      ],
      "metadata": {
        "id": "fNJzSYa8IkOB"
      }
    },
    {
      "cell_type": "code",
      "source": [
        "#run this code on your GPC VM\n",
        "%%bash\n",
        "apt-get install tmux\n",
        "tmux"
      ],
      "metadata": {
        "id": "RnNlH7CUqYmx"
      },
      "execution_count": null,
      "outputs": []
    },
    {
      "cell_type": "markdown",
      "source": [
        "In the new terminal, launched with _tmux_, initiate the download of the blockchain.\n",
        "\n",
        "⟶ use your own wallet account!"
      ],
      "metadata": {
        "id": "CMAiQqncJDdx"
      }
    },
    {
      "cell_type": "code",
      "source": [
        "#run this code on your GPC VM\n",
        "%%bash\n",
        "mkdir /ethereum-chain\n",
        "geth --http --miner.etherbase 0xC677dFeB31975303A9641e9BDA396314105b2052 --datadir /ethereum-chain --ipcdisable --cache 30000 --maxpeers 150"
      ],
      "metadata": {
        "id": "ZUmN2oVPq48p"
      },
      "execution_count": null,
      "outputs": []
    },
    {
      "cell_type": "markdown",
      "source": [
        "![gpc](https://kauthentechstorage.blob.core.windows.net/notebookimages/gcp_blockchain_mining07.png)"
      ],
      "metadata": {
        "id": "_sQZPBF3M7FG"
      }
    },
    {
      "cell_type": "markdown",
      "source": [
        "- You can detach from this background process with _CTRL+B_ followed by _D_.\n",
        "- To see all the background processes, run _tmux ls_\n",
        "- To attach to the background process again, run _tmux attach -t 0_"
      ],
      "metadata": {
        "id": "Pj24vxfaJh8Z"
      }
    },
    {
      "cell_type": "markdown",
      "source": [
        "You can observe the progress by keeping an eye on\n",
        "- the _/ethereum-chain_ folder's size with _cd /ethereum-chain && du -shc ./*_\n",
        "- via the Java console that get launches:\n",
        "  - _geth attach http://127.0.0.1:8545_\n",
        "  - in the Java console, type _eth.syncing_\n",
        "    ![gpc](https://kauthentechstorage.blob.core.windows.net/notebookimages/gcp_blockchain_mining08.png)"
      ],
      "metadata": {
        "id": "kaPIQD44J7gy"
      }
    },
    {
      "cell_type": "markdown",
      "source": [
        "After about 10h of syncing... however, the Ethereum blockchain size is about ~1TB... so let's stop here\n",
        "\n",
        "![gpc](https://kauthentechstorage.blob.core.windows.net/notebookimages/gcp_blockchain_mining09.png)\n"
      ],
      "metadata": {
        "id": "MUJeQAno-3mA"
      }
    },
    {
      "cell_type": "code",
      "source": [
        "%%html\n",
        "<h1 style=\"color:red\">Don't forget to stop or delete your VM!</h1></br>"
      ],
      "metadata": {
        "colab": {
          "base_uri": "https://localhost:8080/",
          "height": 91
        },
        "id": "FSbNpMp7_gU4",
        "outputId": "a18b20ea-2ef1-4697-edc5-7de9c8380a47"
      },
      "execution_count": null,
      "outputs": [
        {
          "output_type": "display_data",
          "data": {
            "text/plain": [
              "<IPython.core.display.HTML object>"
            ],
            "text/html": [
              "<h1 style=\"color:red\">Don't forget to stop or delete your VM!</h1></br>"
            ]
          },
          "metadata": {}
        }
      ]
    },
    {
      "cell_type": "markdown",
      "source": [
        "![gpc](https://kauthentechstorage.blob.core.windows.net/notebookimages/gcp_blockchain_mining10.png)"
      ],
      "metadata": {
        "id": "GxphAA3G_ncu"
      }
    },
    {
      "cell_type": "markdown",
      "source": [
        "#### Mine Blocks\n",
        "In the new terminal, launched with _tmux_, start mining.\n",
        "\n",
        "⟶ use your own wallet account!"
      ],
      "metadata": {
        "id": "iBf_Q0J6Keff"
      }
    },
    {
      "cell_type": "code",
      "source": [
        "#run this code on your GPC VM\n",
        "%%bash\n",
        "geth --http --miner.etherbase 0xC677dFeB31975303A9641e9BDA396314105b2052 --datadir /ethereum-chain --ipcdisable --cache 30000 --maxpeers 150 --mine --miner.threads=8 --metrics"
      ],
      "metadata": {
        "id": "zfER-XmxuPBc"
      },
      "execution_count": null,
      "outputs": []
    },
    {
      "cell_type": "markdown",
      "source": [
        "It really only makes sense to start mining once you have the whole chain... but, for demo purpose, let's run the command on the incomplete chain.\n",
        "\n",
        "![gpc](https://kauthentechstorage.blob.core.windows.net/notebookimages/gcp_blockchain_mining11.png)"
      ],
      "metadata": {
        "id": "3Gfu5sSQBQjz"
      }
    },
    {
      "cell_type": "markdown",
      "source": [
        "## Observe Transactions\n",
        "\n",
        "The ledger is publically accessible, you can observe the transations on [Etherscan](https://etherscan.io/)\n",
        "\n",
        "![observe](https://images.unsplash.com/photo-1483919283443-8db97e2bcd81?ixlib=rb-1.2.1&ixid=MnwxMjA3fDB8MHxwaG90by1wYWdlfHx8fGVufDB8fHx8&auto=format&fit=crop&w=2340&q=80)"
      ],
      "metadata": {
        "id": "V4uRY-Hjo1bD"
      }
    },
    {
      "cell_type": "markdown",
      "source": [
        "# Real-World DApps\n",
        "\n",
        "💡 Teamwork:\n",
        "Pick one of these applications, research and read about them, and concisely present them in the plenum:\n",
        "- https://ethereum.org/en/dapps/#explore\n",
        "- https://consensys.net/blog/news/90-ethereum-apps-you-can-use-right-now/\n",
        "\n",
        "_presented by participants_\n",
        "\n",
        "**Audius**\n",
        "- https://whitepaper.audius.co/AudiusWhitepaper.pdf\n",
        "- https://audius.org/\n",
        "- https://dashboard.audius.org/#/\n",
        "\n",
        "**Civic**\n",
        "- https://www.civic.com/\n",
        "- https://identity.foundation/\n",
        "\n",
        "**Bitski**\n",
        "- https://www.bitski.com/\n",
        "\n",
        "**Radicle**\n",
        "- https://radicle.xyz/\n"
      ],
      "metadata": {
        "id": "z1mDtbzgO8qa"
      }
    },
    {
      "cell_type": "markdown",
      "source": [
        "# UP NEXT\n",
        "[Smart Contract](https://colab.research.google.com/drive/1IkjnePbmGw708E9fhjQ04u8UhXmycn8-?usp=sharing)"
      ],
      "metadata": {
        "id": "L874ufG6CdYA"
      }
    }
  ]
}