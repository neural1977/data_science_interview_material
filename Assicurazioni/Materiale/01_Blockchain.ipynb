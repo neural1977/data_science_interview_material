{
  "nbformat": 4,
  "nbformat_minor": 0,
  "metadata": {
    "colab": {
      "provenance": [],
      "toc_visible": true
    },
    "kernelspec": {
      "name": "python3",
      "display_name": "Python 3"
    },
    "language_info": {
      "name": "python"
    }
  },
  "cells": [
    {
      "cell_type": "markdown",
      "source": [
        "# INTRODUCTION TO BLOCKCHAIN FOR OFFICIAL STATISTICS\n",
        "\n",
        "## ICON-Institute\n",
        "\n",
        "### Dr. Christian Kauth"
      ],
      "metadata": {
        "id": "tEtrjqvknKqK"
      }
    },
    {
      "cell_type": "markdown",
      "source": [
        "# Table of Content\n",
        "- 1 [Blockchain](https://colab.research.google.com/drive/1bImTEhlvm7WR9kEs8vpKPuUAcB060i8o?usp=sharing)\n",
        "- 2 [Ethereum](https://colab.research.google.com/drive/1Q46C2Y1s87RKWySMuH8lMzgPoYyiQluT?usp=sharing)\n",
        "- 3 [Smart Contract](https://colab.research.google.com/drive/1IkjnePbmGw708E9fhjQ04u8UhXmycn8-?usp=sharing)\n",
        "- 4 [Voting](https://colab.research.google.com/drive/1zapnf9H2esvnSXV-c8i5c8nfL35Mlszi?usp=sharing)\n",
        "- 5 [Concepts](https://colab.research.google.com/drive/14Nn7EZixwFXFKLJLCS5W1s1n10YGXiUK?usp=sharing)\n",
        "- 6 [NFTs](https://colab.research.google.com/drive/1UzSb864lLhxVXxkFfe_lj45-CAEtJ7j_?usp=sharing)\n",
        "- 7 [Applications](https://colab.research.google.com/drive/1uIz4qeGZb9W0zgaAP_oEKhfCpcoFRLJo?usp=sharing)"
      ],
      "metadata": {
        "id": "o7SDHg0SWCiR"
      }
    },
    {
      "cell_type": "markdown",
      "source": [
        "# History\n"
      ],
      "metadata": {
        "id": "0uWi-hUyuyIS"
      }
    },
    {
      "cell_type": "markdown",
      "source": [
        "## Ledgers\n",
        "![ledger](https://pictures.abebooks.com/inventory/30408438983_5.jpg)"
      ],
      "metadata": {
        "id": "GTyKLKZlSupD"
      }
    },
    {
      "cell_type": "markdown",
      "source": [
        "##Trusted Parties\n",
        "- trusted\n",
        "- neutral\n",
        "- for risk mitigation\n",
        "  - to avoid disagreement\n",
        "  - to avoid fraud\n",
        "\n",
        "![tp](https://images.unsplash.com/photo-1573046171778-f6506436ec62?ixlib=rb-1.2.1&ixid=MnwxMjA3fDB8MHxwaG90by1wYWdlfHx8fGVufDB8fHx8&auto=format&fit=crop&w=2340&q=80)"
      ],
      "metadata": {
        "id": "B_hjBiJCT0Wn"
      }
    },
    {
      "cell_type": "markdown",
      "source": [
        "## Single Shared Source of Truth\n",
        "\n",
        "- shared\n",
        "- incorruptable\n",
        "- secure\n",
        "- authoritative\n",
        "- everyone is a peer\n",
        "\n",
        "\n",
        "![sync](https://media.istockphoto.com/photos/synchronized-swimming-picture-id155238094?k=20&m=155238094&s=612x612&w=0&h=rzCHKj51KAt7OADWfwmh-lGB1PDhLce0zwfCbxr03O0=)"
      ],
      "metadata": {
        "id": "UTqPvEg8VVu_"
      }
    },
    {
      "cell_type": "markdown",
      "source": [
        "## 💡 Quiz\n",
        "_How many of these blockchain-related words could you explain?_\n",
        "![wordcloud](http://jolestar.com/images/blockchain/wordcloud.png)\n",
        "\n"
      ],
      "metadata": {
        "id": "82tOT5URsGVY"
      }
    },
    {
      "cell_type": "markdown",
      "source": [
        "## Issues with Banking System\n",
        "\n",
        "- Requires total trust\n",
        "- Slow transactions\n",
        "- High fees\n",
        "\n",
        "![bank](https://www.elibrary.imf.org/view/journals/022/0053/002/images/9781513549118_f0045-02.jpg)"
      ],
      "metadata": {
        "id": "LiziahLNxXcN"
      }
    },
    {
      "cell_type": "markdown",
      "source": [
        "## Bitcoin (2009)\n",
        "\n",
        "- [A Peer-to-Peer Electronic Cash System](https://bitcoin.org/bitcoin.pdf) by Satoshi Nakamoto\n",
        "\n",
        "- First decentralized crypto-currency\n",
        "- Solved the problem that you can interact with people whom you do not necessrily know or trust.\n",
        "\n",
        "- Public asset & transaction ledger = Bitcoin Blockchain\n",
        "\n",
        "- Permissionless\n",
        "\n",
        "- Cryptographically secure, unmodifiable, unforgeable"
      ],
      "metadata": {
        "id": "1Fgr-Tnvz9jf"
      }
    },
    {
      "cell_type": "code",
      "source": [
        "%%html\n",
        "<iframe src=\"https://bitcoin.org/en/\" width=\"1000\" height=\"600\"></iframe>"
      ],
      "metadata": {
        "colab": {
          "base_uri": "https://localhost:8080/",
          "height": 625
        },
        "id": "AqVCi2qv9d-m",
        "outputId": "bb3e242c-b50f-4d59-a5b5-5904d98756db"
      },
      "execution_count": null,
      "outputs": [
        {
          "output_type": "display_data",
          "data": {
            "text/plain": [
              "<IPython.core.display.HTML object>"
            ],
            "text/html": [
              "<iframe src=\"https://bitcoin.org/en/\" width=\"1000\" height=\"600\"></iframe>"
            ]
          },
          "metadata": {}
        }
      ]
    },
    {
      "cell_type": "code",
      "source": [
        "%%html\n",
        "<iframe width=\"1000\" height=\"562\" src=\"https://www.youtube.com/embed/Gc2en3nHxA4\" title=\"YouTube video player\" frameborder=\"0\" allow=\"accelerometer; autoplay; clipboard-write; encrypted-media; gyroscope; picture-in-picture\" allowfullscreen></iframe>"
      ],
      "metadata": {
        "colab": {
          "base_uri": "https://localhost:8080/",
          "height": 583
        },
        "id": "dX8gISjq3OVH",
        "outputId": "029aff2e-8f49-427c-ab32-af42e30d07e2"
      },
      "execution_count": null,
      "outputs": [
        {
          "output_type": "display_data",
          "data": {
            "text/plain": [
              "<IPython.core.display.HTML object>"
            ],
            "text/html": [
              "<iframe width=\"1000\" height=\"562\" src=\"https://www.youtube.com/embed/Gc2en3nHxA4\" title=\"YouTube video player\" frameborder=\"0\" allow=\"accelerometer; autoplay; clipboard-write; encrypted-media; gyroscope; picture-in-picture\" allowfullscreen></iframe>"
            ]
          },
          "metadata": {}
        }
      ]
    },
    {
      "cell_type": "code",
      "source": [
        " #@title\n",
        "%%html\n",
        "<img src=\"https://upload.wikimedia.org/wikipedia/commons/thumb/4/46/Bitcoin.svg/1200px-Bitcoin.svg.png\" alt=\"drawing\" height=\"400\"/>"
      ],
      "metadata": {
        "colab": {
          "base_uri": "https://localhost:8080/",
          "height": 421
        },
        "id": "LeIzITmJ5A14",
        "outputId": "1b0310c4-9927-492b-8947-127bab1039f5"
      },
      "execution_count": null,
      "outputs": [
        {
          "output_type": "display_data",
          "data": {
            "text/plain": [
              "<IPython.core.display.HTML object>"
            ],
            "text/html": [
              "<img src=\"https://upload.wikimedia.org/wikipedia/commons/thumb/4/46/Bitcoin.svg/1200px-Bitcoin.svg.png\" alt=\"drawing\" height=\"400\"/>"
            ]
          },
          "metadata": {}
        }
      ]
    },
    {
      "cell_type": "markdown",
      "source": [
        "## Blockchain\n",
        "- The transaction ledger backing bitcoin\n",
        "- List of blocks\n",
        "- Block contains list of transactions that took place and pointer to previous block.\n",
        "- All the way back to the **Genesis block**\n",
        "\n",
        "![blockchain](https://smartcity.telekom.com/assets/images/8/blockchain_small-ef77de84.jpg)"
      ],
      "metadata": {
        "id": "zHJG6V5Vy9j-"
      }
    },
    {
      "cell_type": "markdown",
      "source": [
        "### Operations\n",
        "\n",
        "- ✅ Read historical transactions\n",
        "- ✅ Create new transactions\n",
        "- 🚫 Update transactions\n",
        "- 🚫 Delete transactions"
      ],
      "metadata": {
        "id": "15CRltjgzw0Y"
      }
    },
    {
      "cell_type": "markdown",
      "source": [
        "### Immutability\n",
        "\n",
        "Hash function: A Bitcoin's blockchain uses **SHA-256 (Secure Hash Algorithm)** hashing algorithm.\n",
        "\n",
        "- fast to compute\n",
        "- integrity verification\n",
        "- close to impossible to find a document with the same hash\n",
        "\n",
        "(The probability of just two hashes accidentally colliding is approximately: $4.3 \\cdot 10^{-60}$)\n",
        "\n",
        "![hash](https://images.unsplash.com/photo-1586197093873-45971fd5dfc1?ixlib=rb-1.2.1&ixid=MnwxMjA3fDB8MHxwaG90by1wYWdlfHx8fGVufDB8fHx8&auto=format&fit=crop&w=3871&q=80)"
      ],
      "metadata": {
        "id": "o2U3HhCu0OR2"
      }
    },
    {
      "cell_type": "markdown",
      "source": [
        "#### Google Colaboratory [optional]\n",
        "\n",
        "If you'd like experiment with the provided code snippets yourself, the most popular way is to run them as Colab Notebooks.\n",
        "\n",
        "1. If you don't have one yet, **create a Google account** https://accounts.google.com/\n",
        "\n",
        "2. Click **Copy to Drive** at the top of this notebook to get your own personal copy.\n",
        "\n",
        "3. Now you're able to run the code in the following sections.\n"
      ],
      "metadata": {
        "id": "shXK_OSDEPrg"
      }
    },
    {
      "cell_type": "code",
      "source": [
        "import hashlib\n",
        "\n",
        "m = hashlib.new('sha256')\n",
        "m.update(b\"Introduction to Blockchain for Official Statistics\")\n",
        "m.hexdigest()"
      ],
      "metadata": {
        "colab": {
          "base_uri": "https://localhost:8080/",
          "height": 35
        },
        "id": "frnZpRze3cMC",
        "outputId": "1cb09da4-774a-4638-b59e-ad0b3a64c62f"
      },
      "execution_count": null,
      "outputs": [
        {
          "output_type": "execute_result",
          "data": {
            "text/plain": [
              "'f43c7ced7a1ca05130fee6a25ac8f47172dad33e0245b937b69d6879b5a3f95a'"
            ],
            "application/vnd.google.colaboratory.intrinsic+json": {
              "type": "string"
            }
          },
          "metadata": {},
          "execution_count": 4
        }
      ]
    },
    {
      "cell_type": "code",
      "source": [
        "m = hashlib.new('sha256')\n",
        "m.update(b\"Introduction to blockchain for Official Statistics\")\n",
        "m.hexdigest()"
      ],
      "metadata": {
        "colab": {
          "base_uri": "https://localhost:8080/",
          "height": 35
        },
        "id": "AlQus7U_42Dp",
        "outputId": "c4e0d7b9-6328-4423-d4c5-c7c10ef4d79e"
      },
      "execution_count": null,
      "outputs": [
        {
          "output_type": "execute_result",
          "data": {
            "text/plain": [
              "'4493b9579d9d4da3b1bd28d7dc73869e5f975085807e07e80430b338b243ab24'"
            ],
            "application/vnd.google.colaboratory.intrinsic+json": {
              "type": "string"
            }
          },
          "metadata": {},
          "execution_count": 5
        }
      ]
    },
    {
      "cell_type": "markdown",
      "source": [
        "#### Challenge\n",
        "- Add something (a nounce) to the data, so that the first digit of the hash is a zero.\n",
        "- Manually cumbersome\n",
        "- Programmatically feasible\n",
        "- How about the first 10 digits of the hash need to be zero?"
      ],
      "metadata": {
        "id": "ptVhhnsbOD0Z"
      }
    },
    {
      "cell_type": "code",
      "source": [
        "%%time\n",
        "n_zeros = 7\n",
        "\n",
        "nounce = 0\n",
        "while True:\n",
        "  m = hashlib.new('sha256')\n",
        "  m.update(bytes(f\"Good Day ({nounce})\", 'utf-8'))\n",
        "  h = m.hexdigest()\n",
        "  if h[:n_zeros] == '0'*n_zeros:\n",
        "    break\n",
        "  nounce = nounce +1\n",
        "\n",
        "print(nounce, h)"
      ],
      "metadata": {
        "colab": {
          "base_uri": "https://localhost:8080/"
        },
        "id": "zU-5wpppE0iK",
        "outputId": "9e3a465f-ca58-4370-cc80-7561e2daaa7f"
      },
      "execution_count": null,
      "outputs": [
        {
          "output_type": "stream",
          "name": "stdout",
          "text": [
            "274491925 00000005100d9f19f1df048b092b6c5e05101b72d19a90cb862084c08e250c89\n",
            "CPU times: user 11min 5s, sys: 1.13 s, total: 11min 6s\n",
            "Wall time: 11min 7s\n"
          ]
        }
      ]
    },
    {
      "cell_type": "code",
      "source": [
        "m = hashlib.new('sha256')\n",
        "m.update(b\"Thursday [0000007ac46df1b2ffc133047776c9bedfc87136092955dac7ee63f87349b4dd] (23)\")\n",
        "m.hexdigest()"
      ],
      "metadata": {
        "colab": {
          "base_uri": "https://localhost:8080/",
          "height": 35
        },
        "id": "VVAhQuvQF9il",
        "outputId": "102144a9-caf4-4901-9c36-9f17201a3ba2"
      },
      "execution_count": null,
      "outputs": [
        {
          "output_type": "execute_result",
          "data": {
            "text/plain": [
              "'e6d15391f9faf14d073d7cdb170dab02329c4def553ed447644ccf23596da3ee'"
            ],
            "application/vnd.google.colaboratory.intrinsic+json": {
              "type": "string"
            }
          },
          "metadata": {},
          "execution_count": 7
        }
      ]
    },
    {
      "cell_type": "markdown",
      "source": [
        "![hashblock](https://miro.medium.com/max/977/1*mNdCyhj2WRSzmgTOVztaUg.png)"
      ],
      "metadata": {
        "id": "KY0nrkpD56GM"
      }
    },
    {
      "cell_type": "markdown",
      "source": [
        "## Namecoin (2011)\n",
        "\n",
        "- Bitcoin has a fairly primitive scripting language for writing transactions on the ledger.\n",
        "\n",
        "-   Blockchain ⟶ [Bitcoin](https://bitcoin.org/en/) ⟶ Payments\n",
        "- Blockchain ⟶ [Namecoin](https://www.namecoin.org/) ⟶ Domain name system\n",
        "\n",
        "One of the main concepts of Namecoin is that **users own their domains**, like with Bitcoin, in which users are the owners of their currency. In this way, **there is no company or government that can seize, stop or censor domains from the Dot BIT zone**.\n",
        "\n",
        "![telephoneExchange](https://i.ytimg.com/vi/GVDGuCjog_0/maxresdefault.jpg)"
      ],
      "metadata": {
        "id": "XUzJJVNx6zmZ"
      }
    },
    {
      "cell_type": "code",
      "source": [
        "%%html\n",
        "<iframe width=\"1000\" height=\"562\" src=\"https://www.youtube.com/embed/6OFv4fHsZQ0\" title=\"YouTube video player\" frameborder=\"0\" allow=\"accelerometer; autoplay; clipboard-write; encrypted-media; gyroscope; picture-in-picture\" allowfullscreen></iframe>"
      ],
      "metadata": {
        "colab": {
          "base_uri": "https://localhost:8080/",
          "height": 583
        },
        "id": "1uaaK2O1-byf",
        "outputId": "41f9b157-51f1-4740-97f2-3f852482340f"
      },
      "execution_count": null,
      "outputs": [
        {
          "output_type": "display_data",
          "data": {
            "text/plain": [
              "<IPython.core.display.HTML object>"
            ],
            "text/html": [
              "<iframe width=\"1000\" height=\"562\" src=\"https://www.youtube.com/embed/6OFv4fHsZQ0\" title=\"YouTube video player\" frameborder=\"0\" allow=\"accelerometer; autoplay; clipboard-write; encrypted-media; gyroscope; picture-in-picture\" allowfullscreen></iframe>"
            ]
          },
          "metadata": {}
        }
      ]
    },
    {
      "cell_type": "markdown",
      "source": [
        "## Ethereum (2013)\n",
        "- [Ethereum: A Next-Generation Smart Contract and Decentralized Application Platform](https://ethereum.org/669c9e2e2027310b6b3cdce6e1c52962/Ethereum_White_Paper_-_Buterin_2014.pdf) by Vitalik Buterin\n",
        "- Blockchain technology + Turing-complete programming language\n",
        "- Now developers are able to write **general-purpose applications** that run on Blockchain Technology\n",
        "- Has its own currency, Ether (ETH)\n",
        "  - supports financial transactions\n",
        "  - pay for computations\n"
      ],
      "metadata": {
        "id": "sW0C04RX3O2m"
      }
    },
    {
      "cell_type": "code",
      "source": [
        "#@title\n",
        "%%html\n",
        "<img src=\"https://upload.wikimedia.org/wikipedia/commons/thumb/0/05/Ethereum_logo_2014.svg/1257px-Ethereum_logo_2014.svg.png\" alt=\"drawing\" height=\"400\"/>"
      ],
      "metadata": {
        "colab": {
          "base_uri": "https://localhost:8080/",
          "height": 421
        },
        "id": "ZWnGb7FZ4emT",
        "outputId": "d8c149b4-359f-417a-e487-31720629fedd"
      },
      "execution_count": null,
      "outputs": [
        {
          "output_type": "display_data",
          "data": {
            "text/plain": [
              "<IPython.core.display.HTML object>"
            ],
            "text/html": [
              "<img src=\"https://upload.wikimedia.org/wikipedia/commons/thumb/0/05/Ethereum_logo_2014.svg/1257px-Ethereum_logo_2014.svg.png\" alt=\"drawing\" height=\"400\"/>"
            ]
          },
          "metadata": {}
        }
      ]
    },
    {
      "cell_type": "markdown",
      "source": [
        "## Hyperledger Project (2014)\n",
        "\n",
        "- [Hyperledger Foundation](https://www.hyperledger.org/)\n",
        "- Umbrela organization, all big blockchain players got involved\n",
        "- Part of the Linux Foundation\n",
        "- Now it has 5 distributed ledgers: [Besu, Fabric, Indy, Iroha, Sawtooth](https://www.hyperledger.org/use/distributed-ledgers)\n"
      ],
      "metadata": {
        "id": "taW5MA6l7A11"
      }
    },
    {
      "cell_type": "markdown",
      "source": [
        "## Blockchain is here to stay\n",
        "\n",
        "- [Blockdata's 2021 Survey shows growing consensus on adoption, investment and use cases](https://forkast.news/81-of-top-100-companies-use-blockchain-technology-blockdata/)\n",
        "\n",
        "![topLedgers](https://forkast.news/wp-content/uploads/2021/09/Blockchain-technologies.jpeg)"
      ],
      "metadata": {
        "id": "XoB2u2eb8cIr"
      }
    },
    {
      "cell_type": "markdown",
      "source": [
        "_Examples from participants_\n",
        "\n",
        "[Improving the security of a government land registry](https://exonum.com/story-georgia)"
      ],
      "metadata": {
        "id": "x4NEXeTgfnu6"
      }
    },
    {
      "cell_type": "markdown",
      "source": [
        "# Scenarios"
      ],
      "metadata": {
        "id": "UhO_Hin2o4VS"
      }
    },
    {
      "cell_type": "markdown",
      "source": [
        "## Payments\n",
        "\n",
        "![payment](https://images.unsplash.com/photo-1626162953675-544bf5a61ca6?ixlib=rb-1.2.1&ixid=MnwxMjA3fDB8MHxwaG90by1wYWdlfHx8fGVufDB8fHx8&auto=format&fit=crop&w=2664&q=80)"
      ],
      "metadata": {
        "id": "2TGZlEHjf3-P"
      }
    },
    {
      "cell_type": "markdown",
      "source": [
        "## Voting \n",
        "\n",
        "![voting](https://images.unsplash.com/photo-1540910419892-4a36d2c3266c?ixlib=rb-1.2.1&ixid=MnwxMjA3fDB8MHxwaG90by1wYWdlfHx8fGVufDB8fHx8&auto=format&fit=crop&w=2340&q=80)"
      ],
      "metadata": {
        "id": "L9Y71bv2o70T"
      }
    },
    {
      "cell_type": "markdown",
      "source": [
        "## Legal Agreements\n",
        "\n",
        "![agreement](https://images.unsplash.com/photo-1521791136064-7986c2920216?ixlib=rb-1.2.1&ixid=MnwxMjA3fDB8MHxwaG90by1wYWdlfHx8fGVufDB8fHx8&auto=format&fit=crop&w=2338&q=80)"
      ],
      "metadata": {
        "id": "kvOf2mRFo75Z"
      }
    },
    {
      "cell_type": "markdown",
      "source": [
        "## Supply Chains\n",
        "\n",
        "- Full path track of items\n",
        "- From harvest to shelf\n",
        "\n",
        "![supplychain](https://images.unsplash.com/photo-1634638023542-ece6e86710ec?ixlib=rb-1.2.1&ixid=MnwxMjA3fDB8MHxwaG90by1wYWdlfHx8fGVufDB8fHx8&auto=format&fit=crop&w=2500&q=80)"
      ],
      "metadata": {
        "id": "txuEIff_pcNo"
      }
    },
    {
      "cell_type": "code",
      "source": [
        "%%html\n",
        "<iframe width=\"1000\" height=\"562\" src=\"https://www.youtube.com/embed/8nrVlICgiYM\" title=\"YouTube video player\" frameborder=\"0\" allow=\"accelerometer; autoplay; clipboard-write; encrypted-media; gyroscope; picture-in-picture\" allowfullscreen></iframe>"
      ],
      "metadata": {
        "colab": {
          "base_uri": "https://localhost:8080/",
          "height": 583
        },
        "id": "-gvnYLnpFkPA",
        "outputId": "83b7fa5c-886f-4c61-bf3b-327b81c81514"
      },
      "execution_count": null,
      "outputs": [
        {
          "output_type": "display_data",
          "data": {
            "text/plain": [
              "<IPython.core.display.HTML object>"
            ],
            "text/html": [
              "<iframe width=\"1000\" height=\"562\" src=\"https://www.youtube.com/embed/8nrVlICgiYM\" title=\"YouTube video player\" frameborder=\"0\" allow=\"accelerometer; autoplay; clipboard-write; encrypted-media; gyroscope; picture-in-picture\" allowfullscreen></iframe>"
            ]
          },
          "metadata": {}
        }
      ]
    },
    {
      "cell_type": "markdown",
      "source": [
        "## Digital Ownership\n",
        "\n",
        "![ownership](https://images.unsplash.com/photo-1628172686514-694600d03ce5?ixlib=rb-1.2.1&ixid=MnwxMjA3fDB8MHxwaG90by1wYWdlfHx8fGVufDB8fHx8&auto=format&fit=crop&w=2340&q=80)"
      ],
      "metadata": {
        "id": "PDU8QIVRp3TN"
      }
    },
    {
      "cell_type": "markdown",
      "source": [
        "## Self-Sovereign Identity"
      ],
      "metadata": {
        "id": "8Gx3rIOehWjt"
      }
    },
    {
      "cell_type": "code",
      "source": [
        "%%html\n",
        "<iframe width=\"1000\" height=\"562\" src=\"https://www.youtube.com/embed/Ew-_F-OtDFI\" title=\"YouTube video player\" frameborder=\"0\" allow=\"accelerometer; autoplay; clipboard-write; encrypted-media; gyroscope; picture-in-picture\" allowfullscreen></iframe>"
      ],
      "metadata": {
        "colab": {
          "base_uri": "https://localhost:8080/",
          "height": 583
        },
        "id": "1ZbUFiQYhX6F",
        "outputId": "1ae284eb-49a0-46f5-cfa9-c0999ccb2667"
      },
      "execution_count": null,
      "outputs": [
        {
          "output_type": "display_data",
          "data": {
            "text/plain": [
              "<IPython.core.display.HTML object>"
            ],
            "text/html": [
              "<iframe width=\"1000\" height=\"562\" src=\"https://www.youtube.com/embed/Ew-_F-OtDFI\" title=\"YouTube video player\" frameborder=\"0\" allow=\"accelerometer; autoplay; clipboard-write; encrypted-media; gyroscope; picture-in-picture\" allowfullscreen></iframe>"
            ]
          },
          "metadata": {}
        }
      ]
    },
    {
      "cell_type": "markdown",
      "source": [
        "## Applications from Breakoutrooms\n",
        "\n",
        "- Group 1: [NFT](https://www.howtogeek.com/717421/what-are-nfts-meet-cryptos-digital-collectibles/) (6 votes)\n",
        "\n",
        "- Group 2: [Medical Data Management](https://www.medihospital.com.cy/en/news/274-mediterranean-hospital-of-cyprus-is-the-first-hospital-in-cyprus-to-offer-a-blockchain-enabled-medical-data-management-platform) based on [VeChain](https://www.vetoolchain.com/). Read [more](https://tokenhell.com/vechain-e-newhealthlife/) (6 votes)\n",
        "\n",
        "- Group 3:  [Land ownership](\n",
        "https://www.oecd-ilibrary.org/docserver/3c32c429-en.pdf?expires=1647266657&id=id&accname=guest&checksum=A43025C5D8C540202945281E2AAB8126), potential applications on [e-governance](https://www.duo.uio.no/bitstream/handle/10852/65540/Blockchain%2BTechnology%2Bas%2Ba%2BSupport%2BInfrastructure%2Bin%2Be-Government.pdf?sequence=1) (4 votes)\n",
        "\n",
        "- Group 4: [Travel & Tourism](https://blockchainsimplified.com/blog/can-blockchain-help-the-travel-tourism-industry-fly-higher/) (2 votes)\n",
        "\n",
        "- Group 5: [Patient recruitment (for studies)](https://www.peterjoosten.net/blockchain-zorg/) (3 votes)"
      ],
      "metadata": {
        "id": "ys-6CoXntF5t"
      }
    },
    {
      "cell_type": "markdown",
      "source": [
        "# UP NEXT\n",
        "[Ethereum](https://colab.research.google.com/drive/1Q46C2Y1s87RKWySMuH8lMzgPoYyiQluT?usp=sharing)"
      ],
      "metadata": {
        "id": "7C-rn2ay04TR"
      }
    }
  ]
}