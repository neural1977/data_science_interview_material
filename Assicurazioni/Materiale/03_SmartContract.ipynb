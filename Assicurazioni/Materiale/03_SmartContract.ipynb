{
  "nbformat": 4,
  "nbformat_minor": 0,
  "metadata": {
    "colab": {
      "provenance": [],
      "toc_visible": true
    },
    "kernelspec": {
      "name": "python3",
      "display_name": "Python 3"
    },
    "language_info": {
      "name": "python"
    }
  },
  "cells": [
    {
      "cell_type": "markdown",
      "source": [
        "# INTRODUCTION TO BLOCKCHAIN FOR OFFICIAL STATISTICS\n",
        "\n",
        "## ICON-Institute\n",
        "\n",
        "### Dr. Christian Kauth"
      ],
      "metadata": {
        "id": "wAxqNN0dQEm4"
      }
    },
    {
      "cell_type": "markdown",
      "source": [
        "# Smart Contracts\n",
        "- Computerized contract\n",
        "- Code + Data on the blockchain, at a given address\n",
        "- Transactions call functions → state transition\n"
      ],
      "metadata": {
        "id": "pnPAPCrrDWmN"
      }
    },
    {
      "cell_type": "markdown",
      "source": [
        "![smartContract](https://kauthentechstorage.blob.core.windows.net/notebookimages/smartContract_01.png)"
      ],
      "metadata": {
        "id": "h0MVFML8RJYe"
      }
    },
    {
      "cell_type": "markdown",
      "source": [
        "## Languages\n",
        "\n",
        "Ethereum smart contracts can be written in dedicated languages: \n",
        "- [Solidity](https://soliditylang.org/) is JavaScript-like and is the most popular one\n",
        "- [Vyper](https://vyper.readthedocs.io/en/stable/toctree.html) is Python-like\n"
      ],
      "metadata": {
        "id": "ad9RY-T2RyDe"
      }
    },
    {
      "cell_type": "markdown",
      "source": [
        "![smartContract](https://kauthentechstorage.blob.core.windows.net/notebookimages/smartContract_02.png)"
      ],
      "metadata": {
        "id": "11g76tYWRTle"
      }
    },
    {
      "cell_type": "markdown",
      "source": [
        "## Properties\n",
        "\n",
        "- Think of **Smart Contracts** as of classes in Object-Oriented Programming.\n",
        "- Can have **several instances** (with own address, balance and state)\n",
        "- **Methods** can be called to change the state of the **contract instance**\n",
        "- Methods and fields are static!"
      ],
      "metadata": {
        "id": "wFoyMjUES4VX"
      }
    },
    {
      "cell_type": "markdown",
      "source": [
        "# Transactions\n",
        "\n",
        "Transactions allow to **change the state of Ethereum**.\n",
        "\n",
        "They are compiled into [byte code](https://www.ethervm.io/#opcodes) that can be run on the **Ethereum Virtual Machine**.\n",
        "\n",
        "![transaction](https://d33wubrfki0l68.cloudfront.net/d51f199e1c8c052cb40699e97eac0c2d3763bd1a/be193/static/2c0e5e27e397f4ac6b88082fd28d072f/00e09/ether-state-transition.png)\n"
      ],
      "metadata": {
        "id": "5ARZp8Zed0Eb"
      }
    },
    {
      "cell_type": "markdown",
      "source": [
        "## Relationship to Smart Contracts\n",
        "- Transfer Ether\n",
        "- Deploy a Smart Contract\n",
        "- Call a Smart Contract"
      ],
      "metadata": {
        "id": "XTDplPMshE0B"
      }
    },
    {
      "cell_type": "markdown",
      "source": [
        "## Structure\n",
        "\n",
        "field | explanation\n",
        "--- | ---\n",
        "nounce | transaction number\n",
        "gas price, gas limit | payment for executing the transaction\n",
        "to | receiver's address\n",
        "value | amount of funds\n",
        "v, r, s | signature\n",
        "init or data | byte code or method call\n",
        "\n",
        "- Any participant can validate transactions\n",
        "- Contract execution is deterministic"
      ],
      "metadata": {
        "id": "WnZ85UGWfq_J"
      }
    },
    {
      "cell_type": "markdown",
      "source": [
        "# Blocks\n",
        "\n",
        "For performance reasons, **transactions** are grouped into **blocks** and executed together.\n",
        "\n",
        "![blocks](https://ethereum.org/static/85d784391401f89209d3bcc51e0ea677/302a4/tx-block.png)"
      ],
      "metadata": {
        "id": "5EpARdJwetXA"
      }
    },
    {
      "cell_type": "markdown",
      "source": [
        "## Relationship to Transactions\n",
        "\n",
        "Blocks group transactions together"
      ],
      "metadata": {
        "id": "wQVqNf1thui1"
      }
    },
    {
      "cell_type": "markdown",
      "source": [
        "## Structure\n",
        "\n",
        "field | explanation\n",
        "--- | ---\n",
        "block number | number of the block\n",
        "parent's block hash | hash of the parent block, allowing to check correctness of chain\n",
        "executed transactions | all the transactions grouped in this block\n",
        "new state of network | stored in a [Patricia tree](https://eth.wiki/fundamentals/patricia-tree)\n",
        "v, r, s | signature\n",
        "timestamp | date & time of block execution"
      ],
      "metadata": {
        "id": "g4m5mFech4G1"
      }
    },
    {
      "cell_type": "markdown",
      "source": [
        "# Your 1st Smart Contract"
      ],
      "metadata": {
        "id": "aunAx3dGh4Ng"
      }
    },
    {
      "cell_type": "markdown",
      "source": [
        "## Remix IDE\n",
        "\n",
        "- Access the [Remix IDE](http://remix.ethereum.org/)\n",
        "- Code, deploy and run the following \"HelloBlockchain\" smart Contract"
      ],
      "metadata": {
        "id": "yEWcVIW7kEUr"
      }
    },
    {
      "cell_type": "code",
      "source": [
        "!pip install py-solc-x "
      ],
      "metadata": {
        "colab": {
          "base_uri": "https://localhost:8080/"
        },
        "id": "-stCu8kWoRlf",
        "outputId": "032a838a-13e8-4768-f333-4c310672d74a"
      },
      "execution_count": null,
      "outputs": [
        {
          "output_type": "stream",
          "name": "stdout",
          "text": [
            "Collecting py-solc-x\n",
            "  Downloading py_solc_x-1.1.1-py3-none-any.whl (15 kB)\n",
            "Requirement already satisfied: requests<3,>=2.19.0 in /usr/local/lib/python3.7/dist-packages (from py-solc-x) (2.23.0)\n",
            "Collecting semantic-version<3,>=2.8.1\n",
            "  Downloading semantic_version-2.9.0-py2.py3-none-any.whl (15 kB)\n",
            "Requirement already satisfied: urllib3!=1.25.0,!=1.25.1,<1.26,>=1.21.1 in /usr/local/lib/python3.7/dist-packages (from requests<3,>=2.19.0->py-solc-x) (1.24.3)\n",
            "Requirement already satisfied: certifi>=2017.4.17 in /usr/local/lib/python3.7/dist-packages (from requests<3,>=2.19.0->py-solc-x) (2021.10.8)\n",
            "Requirement already satisfied: chardet<4,>=3.0.2 in /usr/local/lib/python3.7/dist-packages (from requests<3,>=2.19.0->py-solc-x) (3.0.4)\n",
            "Requirement already satisfied: idna<3,>=2.5 in /usr/local/lib/python3.7/dist-packages (from requests<3,>=2.19.0->py-solc-x) (2.10)\n",
            "Installing collected packages: semantic-version, py-solc-x\n",
            "Successfully installed py-solc-x-1.1.1 semantic-version-2.9.0\n"
          ]
        }
      ]
    },
    {
      "cell_type": "code",
      "source": [
        "import solcx\n",
        "solcx.install_solc()"
      ],
      "metadata": {
        "colab": {
          "base_uri": "https://localhost:8080/"
        },
        "id": "w6_-Kr3lopW8",
        "outputId": "9b4b3c6a-aff4-4d12-b09e-60565d04dac2"
      },
      "execution_count": null,
      "outputs": [
        {
          "output_type": "execute_result",
          "data": {
            "text/plain": [
              "Version('0.8.12')"
            ]
          },
          "metadata": {},
          "execution_count": 2
        }
      ]
    },
    {
      "cell_type": "code",
      "source": [
        "from solcx import compile_source\n",
        "\n",
        "compiled_solidity = compile_source(\n",
        "'''\n",
        "// SPDX-License-Identifier: MIT\n",
        "pragma solidity ^0.8.12;\n",
        "\n",
        "contract HelloBlockchain {\n",
        "    string public message; // public -> every actor can read the message\n",
        "\n",
        "    function setMessage(string memory newMessage) public {\n",
        "        message = newMessage;\n",
        "    }\n",
        "}\n",
        "''', output_values=['abi', 'bin'])"
      ],
      "metadata": {
        "id": "yInnZDMDn2_d"
      },
      "execution_count": null,
      "outputs": []
    },
    {
      "cell_type": "code",
      "source": [
        "compiled_solidity"
      ],
      "metadata": {
        "colab": {
          "base_uri": "https://localhost:8080/"
        },
        "id": "kORzKwNkpDs0",
        "outputId": "94696d0e-062d-4d9c-d76e-2a84a256ea08"
      },
      "execution_count": null,
      "outputs": [
        {
          "output_type": "execute_result",
          "data": {
            "text/plain": [
              "{'<stdin>:HelloBlockchain': {'abi': [{'inputs': [],\n",
              "    'name': 'message',\n",
              "    'outputs': [{'internalType': 'string', 'name': '', 'type': 'string'}],\n",
              "    'stateMutability': 'view',\n",
              "    'type': 'function'},\n",
              "   {'inputs': [{'internalType': 'string',\n",
              "      'name': 'newMessage',\n",
              "      'type': 'string'}],\n",
              "    'name': 'setMessage',\n",
              "    'outputs': [],\n",
              "    'stateMutability': 'nonpayable',\n",
              "    'type': 'function'}],\n",
              "  'bin': '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'}}"
            ]
          },
          "metadata": {},
          "execution_count": 14
        }
      ]
    },
    {
      "cell_type": "markdown",
      "source": [
        "# Gas\n",
        "\n",
        "Gas is a _virtual currency_ in Ethereum for transactions\n",
        "- Actors pay a fee (**in gas**) for each [command](https://www.ethervm.io/#opcodes) of the transaction they want to execute\n",
        "- The fee (**in Ether**) is collected by the infrastructure node that executed the command\n",
        "- This system protects the network from attacks (e.g. infinite loops)\n",
        "- Gas cannot be bought, sold, stored\n",
        "- Every command has a [fix price in gas](https://ethereum.org/en/developers/docs/evm/opcodes/)\n",
        "  - mathematical operations are cheap\n",
        "  - storage (even of smart contracts) is expensive\n",
        "  - destruction of smart context costs _negative_ gas\n",
        "- Every transaction defines an [exchange rate bewteen gas and ether](https://ycharts.com/indicators/ethereum_average_gas_price)\n",
        "\n",
        "- EVM operations have fixed gas prices: https://ethereum.org/en/developers/docs/evm/opcodes/\n"
      ],
      "metadata": {
        "id": "q3QFM8PDJsr_"
      }
    },
    {
      "cell_type": "code",
      "source": [
        "%%html\n",
        "<iframe width=\"1000\" height=\"562\" src=\"https://www.youtube.com/embed/AJvzNICwcwc\" title=\"YouTube video player\" frameborder=\"0\" allow=\"accelerometer; autoplay; clipboard-write; encrypted-media; gyroscope; picture-in-picture\" allowfullscreen></iframe>\n"
      ],
      "metadata": {
        "colab": {
          "base_uri": "https://localhost:8080/",
          "height": 583
        },
        "id": "AQiUq7HCRFYL",
        "outputId": "a409b78a-67e6-4a32-deba-63dc1fcfa77f"
      },
      "execution_count": null,
      "outputs": [
        {
          "output_type": "display_data",
          "data": {
            "text/plain": [
              "<IPython.core.display.HTML object>"
            ],
            "text/html": [
              "<iframe width=\"1000\" height=\"562\" src=\"https://www.youtube.com/embed/AJvzNICwcwc\" title=\"YouTube video player\" frameborder=\"0\" allow=\"accelerometer; autoplay; clipboard-write; encrypted-media; gyroscope; picture-in-picture\" allowfullscreen></iframe>"
            ]
          },
          "metadata": {}
        }
      ]
    },
    {
      "cell_type": "markdown",
      "source": [
        "## Ether Denominations\n",
        "\n",
        "Denomination | equivalent in Ether\n",
        "---|---\n",
        "wei | $10^{-18}$\n",
        "kilo-wei | $10^{-15}$\n",
        "mega-wei | $10^{-12}$\n",
        "giga-wei | $10^{-9}$\n",
        "szabo | $10^{-6}$\n",
        "finney | $10^{-3}$\n",
        "ether | $10^{0}$\n",
        "kilo-ether | $10^{3}$\n",
        "mega-ether | $10^{6}$\n",
        "giga-ether | $10^{9}$"
      ],
      "metadata": {
        "id": "_8P6MMjbIXl0"
      }
    },
    {
      "cell_type": "markdown",
      "source": [
        "# Deploy your 1st Contract to an Ethereum Network\n",
        "\n",
        "- Before we deploy the contract on a real network, let's ensure it can be destroyed\n",
        "- Next we deploy it to the Rinkeby network (from [Remix IDE](http://remix.ethereum.org/))"
      ],
      "metadata": {
        "id": "4Q4pxl6LJlzT"
      }
    },
    {
      "cell_type": "code",
      "source": [
        "from solcx import compile_source\n",
        "\n",
        "compiled_solidity = compile_source(\n",
        "'''\n",
        "// SPDX-License-Identifier: MIT\n",
        "pragma solidity ^0.8.12;\n",
        "\n",
        "contract HelloBlockchain {\n",
        "    string public message; // public -> every actor can read the message\n",
        "\n",
        "    function setMessage(string memory newMessage) public {\n",
        "        message = newMessage;\n",
        "    }\n",
        "\n",
        "    function remove() public {\n",
        "        selfdestruct(payable(address(0x0)));\n",
        "    }\n",
        "}\n",
        "''', output_values=['abi', 'bin'])\n",
        "\n",
        "compiled_solidity"
      ],
      "metadata": {
        "colab": {
          "base_uri": "https://localhost:8080/"
        },
        "id": "66FfMeEdKSr7",
        "outputId": "55c8a032-5c84-456e-e3d9-729d6eac5dd1"
      },
      "execution_count": null,
      "outputs": [
        {
          "output_type": "execute_result",
          "data": {
            "text/plain": [
              "{'<stdin>:HelloBlockchain': {'abi': [{'inputs': [],\n",
              "    'name': 'message',\n",
              "    'outputs': [{'internalType': 'string', 'name': '', 'type': 'string'}],\n",
              "    'stateMutability': 'view',\n",
              "    'type': 'function'},\n",
              "   {'inputs': [],\n",
              "    'name': 'remove',\n",
              "    'outputs': [],\n",
              "    'stateMutability': 'nonpayable',\n",
              "    'type': 'function'},\n",
              "   {'inputs': [{'internalType': 'string',\n",
              "      'name': 'newMessage',\n",
              "      'type': 'string'}],\n",
              "    'name': 'setMessage',\n",
              "    'outputs': [],\n",
              "    'stateMutability': 'nonpayable',\n",
              "    'type': 'function'}],\n",
              "  'bin': '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'}}"
            ]
          },
          "metadata": {},
          "execution_count": 17
        }
      ]
    },
    {
      "cell_type": "markdown",
      "source": [
        "## Deploy to the Rinkeby"
      ],
      "metadata": {
        "id": "4vZt_nQnPij8"
      }
    },
    {
      "cell_type": "markdown",
      "source": [
        "![remix](https://kauthentechstorage.blob.core.windows.net/notebookimages/remix_01.png)"
      ],
      "metadata": {
        "id": "9e0u2VBnOHmR"
      }
    },
    {
      "cell_type": "code",
      "source": [
        "%%html\n",
        "<iframe src=\"https://rinkeby.etherscan.io/tx/0x5e0981ca225a5d30ccc9328348ca7251f7c79552cbce27fc0e07a956579d9b6a\" width=\"1000\" height=\"600\"></iframe>"
      ],
      "metadata": {
        "colab": {
          "base_uri": "https://localhost:8080/",
          "height": 625
        },
        "id": "bewovYT2NxKm",
        "outputId": "0f8758c2-2a7d-4f80-8875-96b572fcff9d"
      },
      "execution_count": null,
      "outputs": [
        {
          "output_type": "display_data",
          "data": {
            "text/plain": [
              "<IPython.core.display.HTML object>"
            ],
            "text/html": [
              "<iframe src=\"https://rinkeby.etherscan.io/tx/0x5e0981ca225a5d30ccc9328348ca7251f7c79552cbce27fc0e07a956579d9b6a\" width=\"1000\" height=\"600\"></iframe>"
            ]
          },
          "metadata": {}
        }
      ]
    },
    {
      "cell_type": "markdown",
      "source": [
        "## Call smart contract\n",
        "\n",
        "![remix](https://kauthentechstorage.blob.core.windows.net/notebookimages/remix_02.png)"
      ],
      "metadata": {
        "id": "SL9GSyH6QHK6"
      }
    },
    {
      "cell_type": "markdown",
      "source": [
        "## Destroy smart contract\n",
        "\n",
        "![remix](https://kauthentechstorage.blob.core.windows.net/notebookimages/remix_03.png)"
      ],
      "metadata": {
        "id": "4xHIcjW_QQur"
      }
    },
    {
      "cell_type": "markdown",
      "source": [
        "Without Ether, you cannot upload the contract to the Mainnet\n",
        "![remix](https://kauthentechstorage.blob.core.windows.net/notebookimages/remix_04.png)"
      ],
      "metadata": {
        "id": "g1Righn2BW3S"
      }
    },
    {
      "cell_type": "markdown",
      "source": [
        "# UP NEXT\n",
        "[Voting](https://colab.research.google.com/drive/1zapnf9H2esvnSXV-c8i5c8nfL35Mlszi?usp=sharing)"
      ],
      "metadata": {
        "id": "mCc5mBzFA8Cj"
      }
    }
  ]
}